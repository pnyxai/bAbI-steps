{
 "cells": [
  {
   "cell_type": "code",
   "execution_count": 1,
   "metadata": {},
   "outputs": [],
   "source": [
    "import sys\n",
    "\n",
    "sys.path.append(\"./../\")\n",
    "import random\n",
    "import logging\n",
    "from babisteps.basemodels import generators\n",
    "from babisteps.basemodels import nodes"
   ]
  },
  {
   "cell_type": "markdown",
   "metadata": {},
   "source": [
    "# WorldModel"
   ]
  },
  {
   "cell_type": "code",
   "execution_count": 2,
   "metadata": {},
   "outputs": [],
   "source": [
    "entities = [\n",
    "    \"jhon\",\n",
    "    \"doe\",\n",
    "    \"alice\",\n",
    "    \"bob\",\n",
    "    \"charlie\",\n",
    "    \"david\",\n",
    "    \"eve\",\n",
    "    \"frank\",\n",
    "    \"grace\",\n",
    "    \"heidi\",\n",
    "]\n",
    "entities_type = \"Actor\"\n",
    "entities = [\n",
    "    nodes.Entity(name=entity, type=entities_type) for entity in entities\n",
    "]\n",
    "random.shuffle(entities)\n",
    "# differents places in a hous, 5 coordenates\n",
    "coordenates = [\"kitchen\", \"living room\", \"bedroom\", \"bathroom\", \"garden\"]\n",
    "coordenates_type = \"Location\"\n",
    "coordenates = [\n",
    "    nodes.Coordenate(name=coordenate, type=coordenates_type)\n",
    "    for coordenate in coordenates\n",
    "]\n",
    "random.shuffle(coordenates)\n",
    "\n",
    "model = generators.EntitiesInCoordenates(\n",
    "    entities=entities,\n",
    "    coordenates=coordenates,\n",
    "    entities_type=entities_type,\n",
    "    coordenates_type=coordenates_type,\n",
    ")\n",
    "uncertainty = nodes.Coordenate(name=\"NW\", type=\"Location\")"
   ]
  },
  {
   "cell_type": "markdown",
   "metadata": {},
   "source": [
    "# ActorsInLocationWho"
   ]
  },
  {
   "cell_type": "code",
   "execution_count": 3,
   "metadata": {},
   "outputs": [],
   "source": [
    "states_qty = 12\n",
    "answer = 2\n",
    "verbosity = logging.INFO"
   ]
  },
  {
   "cell_type": "code",
   "execution_count": null,
   "metadata": {},
   "outputs": [],
   "source": [
    "generator = generators.EntitiesInCoordenatesWho(\n",
    "    model=model,\n",
    "    states_qty=states_qty,\n",
    "    answer=answer,\n",
    "    uncertainty=uncertainty,\n",
    "    verbosity=verbosity,\n",
    ")\n",
    "generator.create_ontology()"
   ]
  },
  {
   "cell_type": "code",
   "execution_count": null,
   "metadata": {},
   "outputs": [],
   "source": [
    "generator.states"
   ]
  },
  {
   "cell_type": "code",
   "execution_count": null,
   "metadata": {},
   "outputs": [],
   "source": [
    "generator.create_fol()\n",
    "generator.fol"
   ]
  },
  {
   "cell_type": "code",
   "execution_count": null,
   "metadata": {},
   "outputs": [],
   "source": [
    "generator.create_nl()\n",
    "generator.nl"
   ]
  },
  {
   "cell_type": "code",
   "execution_count": null,
   "metadata": {},
   "outputs": [],
   "source": []
  },
  {
   "cell_type": "markdown",
   "metadata": {},
   "source": [
    "# ActorInLocationPolar"
   ]
  },
  {
   "cell_type": "code",
   "execution_count": 8,
   "metadata": {},
   "outputs": [],
   "source": [
    "states_qty = 12\n",
    "answer = 1\n",
    "verbosity = logging.INFO"
   ]
  },
  {
   "cell_type": "code",
   "execution_count": null,
   "metadata": {},
   "outputs": [],
   "source": [
    "generator = generators.EntitiesInCoordenatesPolar(\n",
    "    model=model,\n",
    "    verbosity=verbosity,\n",
    "    states_qty=states_qty,\n",
    "    answer=answer,\n",
    "    uncertainty=uncertainty,\n",
    ")\n",
    "generator.create_ontology()"
   ]
  },
  {
   "cell_type": "code",
   "execution_count": null,
   "metadata": {},
   "outputs": [],
   "source": [
    "generator.states"
   ]
  },
  {
   "cell_type": "code",
   "execution_count": null,
   "metadata": {},
   "outputs": [],
   "source": [
    "generator.create_fol()\n",
    "generator.fol"
   ]
  },
  {
   "cell_type": "code",
   "execution_count": null,
   "metadata": {},
   "outputs": [],
   "source": [
    "generator.create_nl()\n",
    "generator.nl"
   ]
  },
  {
   "cell_type": "code",
   "execution_count": null,
   "metadata": {},
   "outputs": [],
   "source": []
  },
  {
   "cell_type": "code",
   "execution_count": null,
   "metadata": {},
   "outputs": [],
   "source": []
  }
 ],
 "metadata": {
  "kernelspec": {
   "display_name": "babi-steps-jEjEzKkT-py3.12",
   "language": "python",
   "name": "python3"
  },
  "language_info": {
   "codemirror_mode": {
    "name": "ipython",
    "version": 3
   },
   "file_extension": ".py",
   "mimetype": "text/x-python",
   "name": "python",
   "nbconvert_exporter": "python",
   "pygments_lexer": "ipython3",
   "version": "3.12.3"
  }
 },
 "nbformat": 4,
 "nbformat_minor": 2
}
