{
 "cells": [
  {
   "cell_type": "code",
   "execution_count": 1,
   "metadata": {},
   "outputs": [],
   "source": [
    "import sys\n",
    "\n",
    "sys.path.append(\"./../\")\n",
    "import random\n",
    "from babisteps.basemodels import generators\n",
    "from babisteps.basemodels import nodes"
   ]
  },
  {
   "cell_type": "code",
   "execution_count": 2,
   "metadata": {},
   "outputs": [],
   "source": [
    "entities = [\n",
    "    \"jhon\",\n",
    "    \"doe\",\n",
    "    \"alice\",\n",
    "    \"bob\",\n",
    "    \"charlie\",\n",
    "    \"david\",\n",
    "    \"eve\",\n",
    "    \"frank\",\n",
    "    \"grace\",\n",
    "    \"heidi\",\n",
    "]\n",
    "entities_type = \"Actor\"\n",
    "entities = [\n",
    "    nodes.Entity(name=entity, type=entities_type) for entity in entities\n",
    "]\n",
    "random.shuffle(entities)\n",
    "# differents places in a hous, 5 coordenates\n",
    "coordenates = [\"kitchen\", \"living room\", \"bedroom\", \"bathroom\", \"garden\"]\n",
    "coordenates_type = \"Location\"\n",
    "coordenates = [\n",
    "    nodes.Coordenate(name=coordenate, type=coordenates_type)\n",
    "    for coordenate in coordenates\n",
    "]\n",
    "random.shuffle(coordenates)\n",
    "\n",
    "model = generators.EntitiesInCoordenates(\n",
    "    entities=entities,\n",
    "    coordenates=coordenates,\n",
    "    entities_type=entities_type,\n",
    "    coordenates_type=coordenates_type,\n",
    ")\n",
    "uncertainty = nodes.Coordenate(name=\"NW\", type=\"Location\")\n",
    "\n",
    "states_qty = 12\n",
    "answer = 2\n",
    "min_transitions = 3\n",
    "max_transitions = 3\n",
    "verbosity = 1"
   ]
  },
  {
   "cell_type": "code",
   "execution_count": 3,
   "metadata": {},
   "outputs": [
    {
     "name": "stdout",
     "output_type": "stream",
     "text": [
      "{\"answer\": 2, \"e\": \"Entity(name='alice', type='Actor')\", \"c\": \"Coordenate(name='garden', type='Location')\", \"event\": \"Creating EntitiesInCoordenatesPolar\", \"logger\": \"EntitiesInCoordenatesPolar\", \"level\": \"info\"}\n",
      "{\"i\": 10, \"event\": \"Creating Answer:\", \"logger\": \"EntitiesInCoordenatesPolar\", \"level\": \"info\"}\n"
     ]
    }
   ],
   "source": [
    "generator = generators.EntitiesInCoordenatesPolar(\n",
    "    model=model,\n",
    "    states_qty=states_qty,\n",
    "    min_transitions=3,\n",
    "    max_transitions=3,\n",
    "    answer=answer,\n",
    "    uncertainty=uncertainty,\n",
    ")\n",
    "generator.create_ontology()"
   ]
  },
  {
   "cell_type": "code",
   "execution_count": 4,
   "metadata": {},
   "outputs": [
    {
     "data": {
      "text/plain": [
       "[EntityInLocationState(attr=[UnitState(entity=Entity(name='alice', type='Actor'), coordenate=Coordenate(name='garden', type='Location')), UnitState(entity=Entity(name='eve', type='Actor'), coordenate=Coordenate(name='living room', type='Location')), UnitState(entity=Entity(name='jhon', type='Actor'), coordenate=Coordenate(name='kitchen', type='Location')), UnitState(entity=Entity(name='frank', type='Actor'), coordenate=Coordenate(name='living room', type='Location')), UnitState(entity=Entity(name='charlie', type='Actor'), coordenate=Coordenate(name='NW', type='Location')), UnitState(entity=Entity(name='heidi', type='Actor'), coordenate=Coordenate(name='kitchen', type='Location')), UnitState(entity=Entity(name='bob', type='Actor'), coordenate=Coordenate(name='bedroom', type='Location')), UnitState(entity=Entity(name='doe', type='Actor'), coordenate=Coordenate(name='garden', type='Location')), UnitState(entity=Entity(name='david', type='Actor'), coordenate=Coordenate(name='bedroom', type='Location')), UnitState(entity=Entity(name='grace', type='Actor'), coordenate=Coordenate(name='living room', type='Location'))], index=0),\n",
       " EntityInLocationState(attr=[UnitState(entity=Entity(name='alice', type='Actor'), coordenate=Coordenate(name='garden', type='Location')), UnitState(entity=Entity(name='eve', type='Actor'), coordenate=Coordenate(name='garden', type='Location')), UnitState(entity=Entity(name='jhon', type='Actor'), coordenate=Coordenate(name='garden', type='Location')), UnitState(entity=Entity(name='frank', type='Actor'), coordenate=Coordenate(name='bedroom', type='Location')), UnitState(entity=Entity(name='charlie', type='Actor'), coordenate=Coordenate(name='NW', type='Location')), UnitState(entity=Entity(name='heidi', type='Actor'), coordenate=Coordenate(name='kitchen', type='Location')), UnitState(entity=Entity(name='bob', type='Actor'), coordenate=Coordenate(name='bedroom', type='Location')), UnitState(entity=Entity(name='doe', type='Actor'), coordenate=Coordenate(name='garden', type='Location')), UnitState(entity=Entity(name='david', type='Actor'), coordenate=Coordenate(name='bedroom', type='Location')), UnitState(entity=Entity(name='grace', type='Actor'), coordenate=Coordenate(name='living room', type='Location'))], index=1),\n",
       " EntityInLocationState(attr=[UnitState(entity=Entity(name='alice', type='Actor'), coordenate=Coordenate(name='garden', type='Location')), UnitState(entity=Entity(name='eve', type='Actor'), coordenate=Coordenate(name='kitchen', type='Location')), UnitState(entity=Entity(name='jhon', type='Actor'), coordenate=Coordenate(name='garden', type='Location')), UnitState(entity=Entity(name='frank', type='Actor'), coordenate=Coordenate(name='bedroom', type='Location')), UnitState(entity=Entity(name='charlie', type='Actor'), coordenate=Coordenate(name='NW', type='Location')), UnitState(entity=Entity(name='heidi', type='Actor'), coordenate=Coordenate(name='kitchen', type='Location')), UnitState(entity=Entity(name='bob', type='Actor'), coordenate=Coordenate(name='living room', type='Location')), UnitState(entity=Entity(name='doe', type='Actor'), coordenate=Coordenate(name='garden', type='Location')), UnitState(entity=Entity(name='david', type='Actor'), coordenate=Coordenate(name='bedroom', type='Location')), UnitState(entity=Entity(name='grace', type='Actor'), coordenate=Coordenate(name='living room', type='Location'))], index=2),\n",
       " EntityInLocationState(attr=[UnitState(entity=Entity(name='alice', type='Actor'), coordenate=Coordenate(name='garden', type='Location')), UnitState(entity=Entity(name='eve', type='Actor'), coordenate=Coordenate(name='kitchen', type='Location')), UnitState(entity=Entity(name='jhon', type='Actor'), coordenate=Coordenate(name='garden', type='Location')), UnitState(entity=Entity(name='frank', type='Actor'), coordenate=Coordenate(name='bedroom', type='Location')), UnitState(entity=Entity(name='charlie', type='Actor'), coordenate=Coordenate(name='bedroom', type='Location')), UnitState(entity=Entity(name='heidi', type='Actor'), coordenate=Coordenate(name='kitchen', type='Location')), UnitState(entity=Entity(name='bob', type='Actor'), coordenate=Coordenate(name='garden', type='Location')), UnitState(entity=Entity(name='doe', type='Actor'), coordenate=Coordenate(name='kitchen', type='Location')), UnitState(entity=Entity(name='david', type='Actor'), coordenate=Coordenate(name='bedroom', type='Location')), UnitState(entity=Entity(name='grace', type='Actor'), coordenate=Coordenate(name='living room', type='Location'))], index=3),\n",
       " EntityInLocationState(attr=[UnitState(entity=Entity(name='alice', type='Actor'), coordenate=Coordenate(name='bedroom', type='Location')), UnitState(entity=Entity(name='eve', type='Actor'), coordenate=Coordenate(name='kitchen', type='Location')), UnitState(entity=Entity(name='jhon', type='Actor'), coordenate=Coordenate(name='garden', type='Location')), UnitState(entity=Entity(name='frank', type='Actor'), coordenate=Coordenate(name='bedroom', type='Location')), UnitState(entity=Entity(name='charlie', type='Actor'), coordenate=Coordenate(name='bedroom', type='Location')), UnitState(entity=Entity(name='heidi', type='Actor'), coordenate=Coordenate(name='kitchen', type='Location')), UnitState(entity=Entity(name='bob', type='Actor'), coordenate=Coordenate(name='bedroom', type='Location')), UnitState(entity=Entity(name='doe', type='Actor'), coordenate=Coordenate(name='garden', type='Location')), UnitState(entity=Entity(name='david', type='Actor'), coordenate=Coordenate(name='bedroom', type='Location')), UnitState(entity=Entity(name='grace', type='Actor'), coordenate=Coordenate(name='living room', type='Location'))], index=4),\n",
       " EntityInLocationState(attr=[UnitState(entity=Entity(name='alice', type='Actor'), coordenate=Coordenate(name='bedroom', type='Location')), UnitState(entity=Entity(name='eve', type='Actor'), coordenate=Coordenate(name='bathroom', type='Location')), UnitState(entity=Entity(name='jhon', type='Actor'), coordenate=Coordenate(name='living room', type='Location')), UnitState(entity=Entity(name='frank', type='Actor'), coordenate=Coordenate(name='bedroom', type='Location')), UnitState(entity=Entity(name='charlie', type='Actor'), coordenate=Coordenate(name='bedroom', type='Location')), UnitState(entity=Entity(name='heidi', type='Actor'), coordenate=Coordenate(name='kitchen', type='Location')), UnitState(entity=Entity(name='bob', type='Actor'), coordenate=Coordenate(name='bedroom', type='Location')), UnitState(entity=Entity(name='doe', type='Actor'), coordenate=Coordenate(name='garden', type='Location')), UnitState(entity=Entity(name='david', type='Actor'), coordenate=Coordenate(name='bedroom', type='Location')), UnitState(entity=Entity(name='grace', type='Actor'), coordenate=Coordenate(name='NW', type='Location'))], index=5),\n",
       " EntityInLocationState(attr=[UnitState(entity=Entity(name='alice', type='Actor'), coordenate=Coordenate(name='bedroom', type='Location')), UnitState(entity=Entity(name='eve', type='Actor'), coordenate=Coordenate(name='bathroom', type='Location')), UnitState(entity=Entity(name='jhon', type='Actor'), coordenate=Coordenate(name='bathroom', type='Location')), UnitState(entity=Entity(name='frank', type='Actor'), coordenate=Coordenate(name='living room', type='Location')), UnitState(entity=Entity(name='charlie', type='Actor'), coordenate=Coordenate(name='bedroom', type='Location')), UnitState(entity=Entity(name='heidi', type='Actor'), coordenate=Coordenate(name='kitchen', type='Location')), UnitState(entity=Entity(name='bob', type='Actor'), coordenate=Coordenate(name='bedroom', type='Location')), UnitState(entity=Entity(name='doe', type='Actor'), coordenate=Coordenate(name='garden', type='Location')), UnitState(entity=Entity(name='david', type='Actor'), coordenate=Coordenate(name='bedroom', type='Location')), UnitState(entity=Entity(name='grace', type='Actor'), coordenate=Coordenate(name='living room', type='Location'))], index=6),\n",
       " EntityInLocationState(attr=[UnitState(entity=Entity(name='alice', type='Actor'), coordenate=Coordenate(name='bedroom', type='Location')), UnitState(entity=Entity(name='eve', type='Actor'), coordenate=Coordenate(name='garden', type='Location')), UnitState(entity=Entity(name='jhon', type='Actor'), coordenate=Coordenate(name='bathroom', type='Location')), UnitState(entity=Entity(name='frank', type='Actor'), coordenate=Coordenate(name='living room', type='Location')), UnitState(entity=Entity(name='charlie', type='Actor'), coordenate=Coordenate(name='bedroom', type='Location')), UnitState(entity=Entity(name='heidi', type='Actor'), coordenate=Coordenate(name='garden', type='Location')), UnitState(entity=Entity(name='bob', type='Actor'), coordenate=Coordenate(name='bedroom', type='Location')), UnitState(entity=Entity(name='doe', type='Actor'), coordenate=Coordenate(name='garden', type='Location')), UnitState(entity=Entity(name='david', type='Actor'), coordenate=Coordenate(name='bedroom', type='Location')), UnitState(entity=Entity(name='grace', type='Actor'), coordenate=Coordenate(name='living room', type='Location'))], index=7),\n",
       " EntityInLocationState(attr=[UnitState(entity=Entity(name='alice', type='Actor'), coordenate=Coordenate(name='garden', type='Location')), UnitState(entity=Entity(name='eve', type='Actor'), coordenate=Coordenate(name='garden', type='Location')), UnitState(entity=Entity(name='jhon', type='Actor'), coordenate=Coordenate(name='bathroom', type='Location')), UnitState(entity=Entity(name='frank', type='Actor'), coordenate=Coordenate(name='living room', type='Location')), UnitState(entity=Entity(name='charlie', type='Actor'), coordenate=Coordenate(name='bedroom', type='Location')), UnitState(entity=Entity(name='heidi', type='Actor'), coordenate=Coordenate(name='bedroom', type='Location')), UnitState(entity=Entity(name='bob', type='Actor'), coordenate=Coordenate(name='bedroom', type='Location')), UnitState(entity=Entity(name='doe', type='Actor'), coordenate=Coordenate(name='garden', type='Location')), UnitState(entity=Entity(name='david', type='Actor'), coordenate=Coordenate(name='bedroom', type='Location')), UnitState(entity=Entity(name='grace', type='Actor'), coordenate=Coordenate(name='bedroom', type='Location'))], index=8),\n",
       " EntityInLocationState(attr=[UnitState(entity=Entity(name='alice', type='Actor'), coordenate=Coordenate(name='garden', type='Location')), UnitState(entity=Entity(name='eve', type='Actor'), coordenate=Coordenate(name='garden', type='Location')), UnitState(entity=Entity(name='jhon', type='Actor'), coordenate=Coordenate(name='bathroom', type='Location')), UnitState(entity=Entity(name='frank', type='Actor'), coordenate=Coordenate(name='living room', type='Location')), UnitState(entity=Entity(name='charlie', type='Actor'), coordenate=Coordenate(name='bedroom', type='Location')), UnitState(entity=Entity(name='heidi', type='Actor'), coordenate=Coordenate(name='bedroom', type='Location')), UnitState(entity=Entity(name='bob', type='Actor'), coordenate=Coordenate(name='NW', type='Location')), UnitState(entity=Entity(name='doe', type='Actor'), coordenate=Coordenate(name='bedroom', type='Location')), UnitState(entity=Entity(name='david', type='Actor'), coordenate=Coordenate(name='garden', type='Location')), UnitState(entity=Entity(name='grace', type='Actor'), coordenate=Coordenate(name='bedroom', type='Location'))], index=9),\n",
       " EntityInLocationState(attr=[UnitState(entity=Entity(name='alice', type='Actor'), coordenate=Coordenate(name='garden', type='Location')), UnitState(entity=Entity(name='eve', type='Actor'), coordenate=Coordenate(name='garden', type='Location')), UnitState(entity=Entity(name='jhon', type='Actor'), coordenate=Coordenate(name='bathroom', type='Location')), UnitState(entity=Entity(name='frank', type='Actor'), coordenate=Coordenate(name='bedroom', type='Location')), UnitState(entity=Entity(name='charlie', type='Actor'), coordenate=Coordenate(name='garden', type='Location')), UnitState(entity=Entity(name='heidi', type='Actor'), coordenate=Coordenate(name='NW', type='Location')), UnitState(entity=Entity(name='bob', type='Actor'), coordenate=Coordenate(name='NW', type='Location')), UnitState(entity=Entity(name='doe', type='Actor'), coordenate=Coordenate(name='bedroom', type='Location')), UnitState(entity=Entity(name='david', type='Actor'), coordenate=Coordenate(name='garden', type='Location')), UnitState(entity=Entity(name='grace', type='Actor'), coordenate=Coordenate(name='bedroom', type='Location'))], index=10),\n",
       " EntityInLocationState(attr=[UnitState(entity=Entity(name='alice', type='Actor'), coordenate=Coordenate(name='NW', type='Location')), UnitState(entity=Entity(name='eve', type='Actor'), coordenate=Coordenate(name='bathroom', type='Location')), UnitState(entity=Entity(name='jhon', type='Actor'), coordenate=Coordenate(name='bathroom', type='Location')), UnitState(entity=Entity(name='frank', type='Actor'), coordenate=Coordenate(name='bedroom', type='Location')), UnitState(entity=Entity(name='charlie', type='Actor'), coordenate=Coordenate(name='garden', type='Location')), UnitState(entity=Entity(name='heidi', type='Actor'), coordenate=Coordenate(name='NW', type='Location')), UnitState(entity=Entity(name='bob', type='Actor'), coordenate=Coordenate(name='NW', type='Location')), UnitState(entity=Entity(name='doe', type='Actor'), coordenate=Coordenate(name='NW', type='Location')), UnitState(entity=Entity(name='david', type='Actor'), coordenate=Coordenate(name='garden', type='Location')), UnitState(entity=Entity(name='grace', type='Actor'), coordenate=Coordenate(name='bedroom', type='Location'))], index=11)]"
      ]
     },
     "execution_count": 4,
     "metadata": {},
     "output_type": "execute_result"
    }
   ],
   "source": [
    "generator.states"
   ]
  },
  {
   "cell_type": "code",
   "execution_count": 5,
   "metadata": {},
   "outputs": [
    {
     "data": {
      "text/plain": [
       "[Exists(thing=Entity(name='alice', type='Actor')),\n",
       " Exists(thing=Entity(name='eve', type='Actor')),\n",
       " Exists(thing=Entity(name='jhon', type='Actor')),\n",
       " Exists(thing=Entity(name='frank', type='Actor')),\n",
       " Exists(thing=Entity(name='charlie', type='Actor')),\n",
       " Exists(thing=Entity(name='heidi', type='Actor')),\n",
       " Exists(thing=Entity(name='bob', type='Actor')),\n",
       " Exists(thing=Entity(name='doe', type='Actor')),\n",
       " Exists(thing=Entity(name='david', type='Actor')),\n",
       " Exists(thing=Entity(name='grace', type='Actor')),\n",
       " Exists(thing=Coordenate(name='garden', type='Location')),\n",
       " Exists(thing=Coordenate(name='bedroom', type='Location')),\n",
       " Exists(thing=Coordenate(name='kitchen', type='Location')),\n",
       " Exists(thing=Coordenate(name='living room', type='Location')),\n",
       " Exists(thing=Coordenate(name='bathroom', type='Location')),\n",
       " In(entity=Entity(name='alice', type='Actor'), coordenate=Coordenate(name='garden', type='Location')),\n",
       " In(entity=Entity(name='eve', type='Actor'), coordenate=Coordenate(name='living room', type='Location')),\n",
       " In(entity=Entity(name='jhon', type='Actor'), coordenate=Coordenate(name='kitchen', type='Location')),\n",
       " In(entity=Entity(name='frank', type='Actor'), coordenate=Coordenate(name='living room', type='Location')),\n",
       " In(entity=Entity(name='heidi', type='Actor'), coordenate=Coordenate(name='kitchen', type='Location')),\n",
       " In(entity=Entity(name='bob', type='Actor'), coordenate=Coordenate(name='bedroom', type='Location')),\n",
       " In(entity=Entity(name='doe', type='Actor'), coordenate=Coordenate(name='garden', type='Location')),\n",
       " In(entity=Entity(name='david', type='Actor'), coordenate=Coordenate(name='bedroom', type='Location')),\n",
       " In(entity=Entity(name='grace', type='Actor'), coordenate=Coordenate(name='living room', type='Location')),\n",
       " FromTo(entity=Entity(name='eve', type='Actor'), coordenate1=Coordenate(name='living room', type='Location'), coordenate2=Coordenate(name='garden', type='Location')),\n",
       " FromTo(entity=Entity(name='frank', type='Actor'), coordenate1=Coordenate(name='living room', type='Location'), coordenate2=Coordenate(name='bedroom', type='Location')),\n",
       " To(entity=Entity(name='jhon', type='Actor'), coordenate=Coordenate(name='garden', type='Location')),\n",
       " FromTo(entity=Entity(name='eve', type='Actor'), coordenate1=Coordenate(name='garden', type='Location'), coordenate2=Coordenate(name='kitchen', type='Location')),\n",
       " To(entity=Entity(name='bob', type='Actor'), coordenate=Coordenate(name='living room', type='Location')),\n",
       " FromTo(entity=Entity(name='doe', type='Actor'), coordenate1=Coordenate(name='garden', type='Location'), coordenate2=Coordenate(name='kitchen', type='Location')),\n",
       " To(entity=Entity(name='charlie', type='Actor'), coordenate=Coordenate(name='bedroom', type='Location')),\n",
       " FromTo(entity=Entity(name='bob', type='Actor'), coordenate1=Coordenate(name='living room', type='Location'), coordenate2=Coordenate(name='garden', type='Location')),\n",
       " To(entity=Entity(name='bob', type='Actor'), coordenate=Coordenate(name='bedroom', type='Location')),\n",
       " FromTo(entity=Entity(name='doe', type='Actor'), coordenate1=Coordenate(name='kitchen', type='Location'), coordenate2=Coordenate(name='garden', type='Location')),\n",
       " FromTo(entity=Entity(name='alice', type='Actor'), coordenate1=Coordenate(name='garden', type='Location'), coordenate2=Coordenate(name='bedroom', type='Location')),\n",
       " FromTo(entity=Entity(name='eve', type='Actor'), coordenate1=Coordenate(name='kitchen', type='Location'), coordenate2=Coordenate(name='bathroom', type='Location')),\n",
       " From(entity=Entity(name='grace', type='Actor'), coordenate=Coordenate(name='living room', type='Location')),\n",
       " To(entity=Entity(name='jhon', type='Actor'), coordenate=Coordenate(name='living room', type='Location')),\n",
       " FromTo(entity=Entity(name='jhon', type='Actor'), coordenate1=Coordenate(name='living room', type='Location'), coordenate2=Coordenate(name='bathroom', type='Location')),\n",
       " To(entity=Entity(name='grace', type='Actor'), coordenate=Coordenate(name='living room', type='Location')),\n",
       " FromTo(entity=Entity(name='frank', type='Actor'), coordenate1=Coordenate(name='bedroom', type='Location'), coordenate2=Coordenate(name='living room', type='Location')),\n",
       " FromTo(entity=Entity(name='eve', type='Actor'), coordenate1=Coordenate(name='bathroom', type='Location'), coordenate2=Coordenate(name='garden', type='Location')),\n",
       " FromTo(entity=Entity(name='heidi', type='Actor'), coordenate1=Coordenate(name='kitchen', type='Location'), coordenate2=Coordenate(name='garden', type='Location')),\n",
       " FromTo(entity=Entity(name='grace', type='Actor'), coordenate1=Coordenate(name='living room', type='Location'), coordenate2=Coordenate(name='bedroom', type='Location')),\n",
       " To(entity=Entity(name='alice', type='Actor'), coordenate=Coordenate(name='garden', type='Location')),\n",
       " To(entity=Entity(name='heidi', type='Actor'), coordenate=Coordenate(name='bedroom', type='Location')),\n",
       " To(entity=Entity(name='david', type='Actor'), coordenate=Coordenate(name='garden', type='Location')),\n",
       " FromTo(entity=Entity(name='doe', type='Actor'), coordenate1=Coordenate(name='garden', type='Location'), coordenate2=Coordenate(name='bedroom', type='Location')),\n",
       " From(entity=Entity(name='bob', type='Actor'), coordenate=Coordenate(name='bedroom', type='Location')),\n",
       " FromTo(entity=Entity(name='charlie', type='Actor'), coordenate1=Coordenate(name='bedroom', type='Location'), coordenate2=Coordenate(name='garden', type='Location')),\n",
       " To(entity=Entity(name='frank', type='Actor'), coordenate=Coordenate(name='bedroom', type='Location')),\n",
       " From(entity=Entity(name='heidi', type='Actor'), coordenate=Coordenate(name='bedroom', type='Location')),\n",
       " FromTo(entity=Entity(name='eve', type='Actor'), coordenate1=Coordenate(name='garden', type='Location'), coordenate2=Coordenate(name='bathroom', type='Location')),\n",
       " From(entity=Entity(name='doe', type='Actor'), coordenate=Coordenate(name='bedroom', type='Location')),\n",
       " From(entity=Entity(name='alice', type='Actor'), coordenate=Coordenate(name='garden', type='Location'))]"
      ]
     },
     "execution_count": 5,
     "metadata": {},
     "output_type": "execute_result"
    }
   ],
   "source": [
    "generator.create_fol()\n",
    "generator.fol"
   ]
  },
  {
   "cell_type": "code",
   "execution_count": 6,
   "metadata": {},
   "outputs": [
    {
     "data": {
      "text/plain": [
       "['alice is present',\n",
       " 'eve is present',\n",
       " 'jhon is present',\n",
       " 'frank is present',\n",
       " 'charlie is present',\n",
       " 'heidi is present',\n",
       " 'bob is present',\n",
       " 'doe is present',\n",
       " 'david is present',\n",
       " 'grace is present',\n",
       " 'There is a garden',\n",
       " 'There is a bedroom',\n",
       " 'There is a kitchen',\n",
       " 'There is a living room',\n",
       " 'There is a bathroom',\n",
       " 'alice is in the garden',\n",
       " 'eve is in the living room',\n",
       " 'jhon is in the kitchen',\n",
       " 'frank is in the living room',\n",
       " 'heidi is in the kitchen',\n",
       " 'bob is in the bedroom',\n",
       " 'doe is in the garden',\n",
       " 'david is in the bedroom',\n",
       " 'grace is in the living room',\n",
       " 'eve moved from the living room to the garden.',\n",
       " 'frank entered from the living room to the bedroom.',\n",
       " 'jhon reached to the garden.',\n",
       " 'eve entered from the garden to the kitchen.',\n",
       " 'bob entered the living room.',\n",
       " 'doe moved from the garden to the kitchen.',\n",
       " 'charlie went to the bedroom.',\n",
       " 'bob traveled from the living room to the garden.',\n",
       " 'bob went to the bedroom.',\n",
       " 'doe reached from the kitchen to the garden.',\n",
       " 'alice entered from the garden to the bedroom.',\n",
       " 'eve traveled from the kitchen to the bathroom.',\n",
       " 'grace left the living room.',\n",
       " 'jhon went to the living room.',\n",
       " 'jhon reached from the living room to the bathroom.',\n",
       " 'grace reached to the living room.',\n",
       " 'frank went from the bedroom to the living room.',\n",
       " 'eve traveled from the bathroom to the garden.',\n",
       " 'heidi moved from the kitchen to the garden.',\n",
       " 'grace moved from the living room to the bedroom.',\n",
       " 'alice reached to the garden.',\n",
       " 'heidi traveled to the bedroom.',\n",
       " 'david entered the garden.',\n",
       " 'doe reached from the garden to the bedroom.',\n",
       " 'bob abandoned the bedroom.',\n",
       " 'charlie reached from the bedroom to the garden.',\n",
       " 'frank entered the bedroom.',\n",
       " 'heidi abandoned the bedroom.',\n",
       " 'eve reached from the garden to the bathroom.',\n",
       " 'doe left the bedroom.',\n",
       " 'alice abandoned the garden.']"
      ]
     },
     "execution_count": 6,
     "metadata": {},
     "output_type": "execute_result"
    }
   ],
   "source": [
    "generator.create_nl()\n",
    "generator.nl"
   ]
  },
  {
   "cell_type": "code",
   "execution_count": null,
   "metadata": {},
   "outputs": [],
   "source": []
  }
 ],
 "metadata": {
  "kernelspec": {
   "display_name": "babi-steps-jEjEzKkT-py3.12",
   "language": "python",
   "name": "python3"
  },
  "language_info": {
   "codemirror_mode": {
    "name": "ipython",
    "version": 3
   },
   "file_extension": ".py",
   "mimetype": "text/x-python",
   "name": "python",
   "nbconvert_exporter": "python",
   "pygments_lexer": "ipython3",
   "version": "3.12.3"
  }
 },
 "nbformat": 4,
 "nbformat_minor": 2
}
