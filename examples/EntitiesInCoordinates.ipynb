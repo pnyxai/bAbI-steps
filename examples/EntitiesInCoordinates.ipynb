{
 "cells": [
  {
   "cell_type": "code",
   "execution_count": 1,
   "metadata": {},
   "outputs": [],
   "source": [
    "import sys\n",
    "\n",
    "sys.path.append(\"./../\")\n",
    "import logging\n",
    "import random\n",
    "from copy import deepcopy\n",
    "\n",
    "from babisteps.basemodels.generators import (\n",
    "    ActorInLocationPolar,\n",
    "    ActorInLocationWhere,\n",
    "    ActorInLocationWho,\n",
    "    ActorWithObjectPolar,\n",
    "    ActorWithObjectWhat,\n",
    "    ActorWithObjectWho,\n",
    "    EntitiesInCoordenates,\n",
    "    SimpleTracker,\n",
    ")\n",
    "from babisteps.basemodels.nodes import Coordenate, Entity"
   ]
  },
  {
   "cell_type": "markdown",
   "metadata": {},
   "source": [
    "# WorldModel"
   ]
  },
  {
   "cell_type": "code",
   "execution_count": 12,
   "metadata": {},
   "outputs": [],
   "source": [
    "entities = [\n",
    "    \"jhon\",\n",
    "    \"doe\",\n",
    "    \"alice\",\n",
    "    \"bob\",\n",
    "    \"charlie\",\n",
    "    \"david\",\n",
    "    \"eve\",\n",
    "    \"frank\",\n",
    "    \"grace\",\n",
    "    \"heidi\",\n",
    "]\n",
    "entities_type = \"Actor\"\n",
    "entities = [Entity(name=entity, type=entities_type) for entity in entities]\n",
    "random.shuffle(entities)\n",
    "coordenates = [\"kitchen\", \"living room\", \"bedroom\", \"bathroom\", \"garden\"]\n",
    "coordenates_type = \"Location\"\n",
    "coordenates = [\n",
    "    Coordenate(name=coordenate, type=coordenates_type) for coordenate in coordenates\n",
    "]\n",
    "random.shuffle(coordenates)\n",
    "\n",
    "model = EntitiesInCoordenates(\n",
    "    entities=entities,\n",
    "    coordenates=coordenates,\n",
    "    entities_type=entities_type,\n",
    "    coordenates_type=coordenates_type,\n",
    ")"
   ]
  },
  {
   "cell_type": "markdown",
   "metadata": {},
   "source": [
    "# ActorInLocationPolar"
   ]
  },
  {
   "cell_type": "code",
   "execution_count": 5,
   "metadata": {},
   "outputs": [],
   "source": [
    "answer = \"yes\"  # [\"yes\", \"no\", \"unknown\"]\n",
    "topic = ActorInLocationPolar(\n",
    "    answer=answer,\n",
    ")\n",
    "states_qty = 12\n",
    "verbosity = logging.INFO"
   ]
  },
  {
   "cell_type": "code",
   "execution_count": null,
   "metadata": {},
   "outputs": [],
   "source": [
    "generator = SimpleTracker(\n",
    "    model=deepcopy(model)._shuffle(),\n",
    "    states_qty=states_qty,\n",
    "    topic=topic,\n",
    "    verbosity=verbosity,\n",
    ")\n",
    "generator.create_ontology()\n",
    "generator.create_fol()\n",
    "generator.create_nl()\n",
    "display(generator.nl)\n",
    "print(generator.topic.get_question())\n",
    "print(generator.topic.get_answer())"
   ]
  },
  {
   "cell_type": "markdown",
   "metadata": {},
   "source": [
    "# ActorsInLocationWho"
   ]
  },
  {
   "cell_type": "code",
   "execution_count": null,
   "metadata": {},
   "outputs": [],
   "source": [
    "answer = \"none\"  # [\"designated_entity\", \"none\", \"unknown\"]\n",
    "topic = ActorInLocationWho(\n",
    "    answer=answer,\n",
    ")\n",
    "\n",
    "states_qty = 24\n",
    "verbosity = logging.DEBUG"
   ]
  },
  {
   "cell_type": "code",
   "execution_count": null,
   "metadata": {},
   "outputs": [],
   "source": [
    "generator = SimpleTracker(\n",
    "    model=deepcopy(model),\n",
    "    states_qty=states_qty,\n",
    "    topic=topic,\n",
    "    verbosity=verbosity,\n",
    ")\n",
    "generator.create_ontology()\n",
    "generator.create_fol()\n",
    "generator.create_nl()\n",
    "display(generator.nl)\n",
    "print(generator.topic.get_question())\n",
    "print(generator.topic.get_answer())"
   ]
  },
  {
   "cell_type": "markdown",
   "metadata": {},
   "source": [
    "# ActorInLocationWhere"
   ]
  },
  {
   "cell_type": "code",
   "execution_count": 7,
   "metadata": {},
   "outputs": [],
   "source": [
    "answer = \"unknown\"  # [\"designated_location\", \"unknown\"\n",
    "topic = ActorInLocationWhere(\n",
    "    answer=answer,\n",
    ")\n",
    "states_qty = 24\n",
    "verbosity = logging.INFO"
   ]
  },
  {
   "cell_type": "code",
   "execution_count": null,
   "metadata": {},
   "outputs": [],
   "source": [
    "generator = SimpleTracker(\n",
    "    model=deepcopy(model)._shuffle(),\n",
    "    states_qty=states_qty,\n",
    "    topic=topic,\n",
    "    verbosity=verbosity,\n",
    ")\n",
    "generator.create_ontology()\n",
    "generator.create_fol()\n",
    "generator.create_nl()\n",
    "display(generator.nl)\n",
    "print(generator.topic.get_question())\n",
    "print(generator.topic.get_answer())"
   ]
  },
  {
   "cell_type": "markdown",
   "metadata": {},
   "source": [
    "# ActorWithObjectPolar"
   ]
  },
  {
   "cell_type": "code",
   "execution_count": 2,
   "metadata": {},
   "outputs": [],
   "source": [
    "# List of 10 random objects in a house\n",
    "entities = [\n",
    "    \"pencil\",\n",
    "    \"book\",\n",
    "    \"phone\",\n",
    "    \"computer\",\n",
    "    \"cards\",\n",
    "    \"keys\",\n",
    "    \"glasses\",\n",
    "    \"wallet\",\n",
    "    \"watch\",\n",
    "    \"ring\",\n",
    "]\n",
    "\n",
    "entities_type = \"Object\"\n",
    "entities = [Entity(name=entity, type=entities_type) for entity in entities]\n",
    "random.shuffle(entities)\n",
    "#\n",
    "coordenates = [\n",
    "    \"jhon\",\n",
    "    \"doe\",\n",
    "    \"alice\",\n",
    "    \"bob\",\n",
    "    \"charlie\",\n",
    "    \"david\",\n",
    "    \"eve\",\n",
    "    \"frank\",\n",
    "    \"grace\",\n",
    "    \"heidi\",\n",
    "]\n",
    "coordenates_type = \"Actor\"\n",
    "coordenates = [\n",
    "    Coordenate(name=coordenate, type=coordenates_type) for coordenate in coordenates\n",
    "]\n",
    "random.shuffle(coordenates)\n",
    "\n",
    "model = EntitiesInCoordenates(\n",
    "    entities=entities,\n",
    "    coordenates=coordenates,\n",
    "    entities_type=entities_type,\n",
    "    coordenates_type=coordenates_type,\n",
    ")"
   ]
  },
  {
   "cell_type": "code",
   "execution_count": 11,
   "metadata": {},
   "outputs": [],
   "source": [
    "answer = \"no\"  # [\"yes\", \"no\"]\n",
    "topic = ActorWithObjectPolar(\n",
    "    answer=answer,\n",
    ")\n",
    "states_qty = 24\n",
    "verbosity = logging.INFO"
   ]
  },
  {
   "cell_type": "code",
   "execution_count": null,
   "metadata": {},
   "outputs": [],
   "source": [
    "generator = SimpleTracker(\n",
    "    model=deepcopy(model)._shuffle(),\n",
    "    states_qty=states_qty,\n",
    "    topic=topic,\n",
    "    verbosity=verbosity,\n",
    ")\n",
    "generator.create_ontology()\n",
    "generator.create_fol()\n",
    "generator.create_nl()\n",
    "display(generator.nl)\n",
    "print(generator.topic.get_question())\n",
    "print(generator.topic.get_answer())"
   ]
  },
  {
   "cell_type": "markdown",
   "metadata": {},
   "source": [
    "## ActorWithObjectWhat"
   ]
  },
  {
   "cell_type": "code",
   "execution_count": 3,
   "metadata": {},
   "outputs": [],
   "source": [
    "answer = \"none\"  # [\"designated_object\", \"none\"]\n",
    "topic = ActorWithObjectWhat(\n",
    "    answer=answer,\n",
    ")\n",
    "states_qty = 12\n",
    "verbosity = logging.INFO"
   ]
  },
  {
   "cell_type": "code",
   "execution_count": null,
   "metadata": {},
   "outputs": [],
   "source": [
    "generator = SimpleTracker(\n",
    "    model=deepcopy(model)._shuffle(),\n",
    "    states_qty=states_qty,\n",
    "    topic=topic,\n",
    "    verbosity=verbosity,\n",
    ")\n",
    "generator.create_ontology()\n",
    "generator.create_fol()\n",
    "generator.create_nl()\n",
    "display(generator.nl)\n",
    "print(generator.topic.get_question())\n",
    "print(generator.topic.get_answer())"
   ]
  },
  {
   "cell_type": "markdown",
   "metadata": {},
   "source": [
    "## ActorWithObjectWho"
   ]
  },
  {
   "cell_type": "code",
   "execution_count": 9,
   "metadata": {},
   "outputs": [],
   "source": [
    "answer = \"designated_actor\"  # [\"designated_object\", \"none\"]\n",
    "topic = ActorWithObjectWho(\n",
    "    answer=answer,\n",
    ")\n",
    "states_qty = 12\n",
    "verbosity = logging.INFO"
   ]
  },
  {
   "cell_type": "code",
   "execution_count": null,
   "metadata": {},
   "outputs": [],
   "source": [
    "generator = SimpleTracker(\n",
    "    model=deepcopy(model)._shuffle(),\n",
    "    states_qty=states_qty,\n",
    "    topic=topic,\n",
    "    verbosity=verbosity,\n",
    ")\n",
    "generator.create_ontology()\n",
    "generator.create_fol()\n",
    "generator.create_nl()\n",
    "display(generator.nl)\n",
    "print(generator.topic.get_question())\n",
    "print(generator.topic.get_answer())"
   ]
  },
  {
   "cell_type": "code",
   "execution_count": null,
   "metadata": {},
   "outputs": [],
   "source": []
  }
 ],
 "metadata": {
  "kernelspec": {
   "display_name": "babi-steps-jEjEzKkT-py3.12",
   "language": "python",
   "name": "python3"
  },
  "language_info": {
   "codemirror_mode": {
    "name": "ipython",
    "version": 3
   },
   "file_extension": ".py",
   "mimetype": "text/x-python",
   "name": "python",
   "nbconvert_exporter": "python",
   "pygments_lexer": "ipython3",
   "version": "3.12.3"
  }
 },
 "nbformat": 4,
 "nbformat_minor": 2
}
