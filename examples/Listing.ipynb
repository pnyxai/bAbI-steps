{
 "cells": [
  {
   "cell_type": "code",
   "execution_count": null,
   "metadata": {},
   "outputs": [],
   "source": [
    "%load_ext autoreload\n",
    "%autoreload 2"
   ]
  },
  {
   "cell_type": "code",
   "execution_count": null,
   "metadata": {},
   "outputs": [],
   "source": [
    "import logging\n",
    "import os\n",
    "import random\n",
    "import sys\n",
    "from copy import deepcopy\n",
    "from pathlib import Path\n",
    "\n",
    "import networkx as nx\n",
    "import numpy as np\n",
    "import yaml\n",
    "from matplotlib import pyplot as plt\n",
    "from typing import Literal\n",
    "\n",
    "\n",
    "from babisteps import proccesing as proc\n",
    "from babisteps import utils as ut\n",
    "from babisteps.basemodels.listing import (\n",
    "    Listing,\n",
    "    ActorInLocationWho,\n",
    "    ActorWithObjectWhat,\n",
    "    )\n",
    "from typing import get_type_hints\n",
    "from babisteps.basemodels.nodes import Entity, Relationship, Coordenate\n",
    "from babisteps.basemodels.simpletracking import EntitiesInCoordenates\n"
   ]
  },
  {
   "cell_type": "code",
   "execution_count": null,
   "metadata": {},
   "outputs": [],
   "source": [
    "# yaml_path\n",
    "yaml_common_path = './../babisteps/tasks/commons.yaml'\n",
    "# Load the yaml file in yaml_test variable\n",
    "with open(yaml_common_path, 'r') as file:\n",
    "    yaml_commons = yaml.safe_load(file)"
   ]
  },
  {
   "cell_type": "code",
   "execution_count": null,
   "metadata": {},
   "outputs": [],
   "source": [
    "output_path = Path('/home/giskard/Documents/POKTscan/code/bAbI-steps/outputs')\n",
    "# add output_path to yaml_commons \n",
    "yaml_commons['output_path'] = output_path"
   ]
  },
  {
   "cell_type": "markdown",
   "metadata": {},
   "source": [
    "# Listing"
   ]
  },
  {
   "cell_type": "code",
   "execution_count": null,
   "metadata": {},
   "outputs": [],
   "source": [
    "relations_qty = 3\n",
    "n_entities = 7\n",
    "n_coordenates = 6\n",
    "listing_qty = 4\n",
    "answer = \"none\"\n",
    "verbosity = \"INFO\"\n",
    "gen_kwargs = {}\n",
    "path = os.path.join(os.getcwd())\n",
    "\n",
    "num_samples = yaml_commons.get(\"num_samples_by_task\")\n",
    "total_locations = yaml_commons.get(\"locations\")\n",
    "total_actors = yaml_commons.get(\"actors\")\n",
    "total_objects = yaml_commons.get(\"objects\")\n",
    "states_qty = yaml_commons.get(\"states_qty\")"
   ]
  },
  {
   "cell_type": "code",
   "execution_count": null,
   "metadata": {},
   "outputs": [],
   "source": [
    "leaf = ActorWithObjectWhat"
   ]
  },
  {
   "cell_type": "code",
   "execution_count": null,
   "metadata": {},
   "outputs": [],
   "source": [
    "if leaf in [\n",
    "        ActorInLocationWho,\n",
    "]:\n",
    "    shape_str = (\"locations\", \"actors\")\n",
    "    entities_g = np.random.choice(total_actors,\n",
    "                                    size=n_entities,\n",
    "                                    replace=False).tolist()\n",
    "    coordenates_g = np.random.choice(total_locations,\n",
    "                                        size=n_coordenates,\n",
    "                                        replace=False).tolist()\n",
    "elif leaf in [\n",
    "        ActorWithObjectWhat,\n",
    "]:\n",
    "    shape_str = (\"actors\", \"objects\")\n",
    "    entities_g = np.random.choice(total_objects,\n",
    "                                    size=n_entities,\n",
    "                                    replace=False).tolist()\n",
    "    coordenates_g = np.random.choice(total_actors,\n",
    "                                        size=n_coordenates,\n",
    "                                        replace=False).tolist()\n",
    "\n",
    "entities = [Entity(name=entity) for entity in entities_g]\n",
    "coordenates = [\n",
    "    Coordenate(name=coordenate) for coordenate in coordenates_g\n",
    "]\n",
    "model = EntitiesInCoordenates(entities=entities,\n",
    "                                coordenates=coordenates)"
   ]
  },
  {
   "cell_type": "code",
   "execution_count": null,
   "metadata": {},
   "outputs": [],
   "source": [
    "topic = leaf(answer=answer)"
   ]
  },
  {
   "cell_type": "code",
   "execution_count": null,
   "metadata": {},
   "outputs": [],
   "source": [
    "generator = Listing(\n",
    "                model=deepcopy(model)._shuffle(),\n",
    "                states_qty=states_qty,\n",
    "                topic=topic,\n",
    "                verbosity=verbosity,\n",
    "                shape_str=shape_str,\n",
    "                log_file=os.path.join(path, \"logs.txt\"),\n",
    "                **gen_kwargs if gen_kwargs is not None else {},\n",
    "            )"
   ]
  },
  {
   "cell_type": "code",
   "execution_count": null,
   "metadata": {},
   "outputs": [],
   "source": [
    "generator.generate()"
   ]
  },
  {
   "cell_type": "code",
   "execution_count": null,
   "metadata": {},
   "outputs": [],
   "source": [
    "json = generator.get_json()"
   ]
  },
  {
   "cell_type": "code",
   "execution_count": null,
   "metadata": {},
   "outputs": [],
   "source": [
    "json"
   ]
  },
  {
   "cell_type": "code",
   "execution_count": null,
   "metadata": {},
   "outputs": [],
   "source": [
    "txt = generator.get_txt()"
   ]
  },
  {
   "cell_type": "code",
   "execution_count": null,
   "metadata": {},
   "outputs": [],
   "source": [
    "print(txt)"
   ]
  }
 ],
 "metadata": {
  "kernelspec": {
   "display_name": "babisteps-jEjEzKkT-py3.12",
   "language": "python",
   "name": "python3"
  },
  "language_info": {
   "codemirror_mode": {
    "name": "ipython",
    "version": 3
   },
   "file_extension": ".py",
   "mimetype": "text/x-python",
   "name": "python",
   "nbconvert_exporter": "python",
   "pygments_lexer": "ipython3",
   "version": "3.12.3"
  }
 },
 "nbformat": 4,
 "nbformat_minor": 2
}
