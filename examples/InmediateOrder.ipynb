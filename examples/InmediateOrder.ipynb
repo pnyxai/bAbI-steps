{
 "cells": [
  {
   "cell_type": "code",
   "execution_count": null,
   "metadata": {},
   "outputs": [],
   "source": [
    "%load_ext autoreload\n",
    "%autoreload 2"
   ]
  },
  {
   "cell_type": "code",
   "execution_count": null,
   "metadata": {},
   "outputs": [],
   "source": [
    "from sparse import SparseArray\n"
   ]
  },
  {
   "cell_type": "code",
   "execution_count": null,
   "metadata": {},
   "outputs": [],
   "source": [
    "import logging\n",
    "import os\n",
    "import random\n",
    "import sys\n",
    "from copy import deepcopy\n",
    "from pathlib import Path\n",
    "\n",
    "import networkx as nx\n",
    "import numpy as np\n",
    "import yaml\n",
    "from matplotlib import pyplot as plt\n",
    "from sparse import DOK\n",
    "from sparse import SparseArray\n",
    "\n",
    "from babisteps import proccesing as proc\n",
    "from babisteps import utils as ut\n",
    "from babisteps.basemodels.immediateorder import (\n",
    "    ImmediateOrder,\n",
    "    ImmediateOrderModel,\n",
    "    ImmediateOrderRequestPolar,\n",
    "    ImmediateOrderRequestHow,\n",
    "    ImmediateOrderRequestWhat\n",
    ")\n",
    "from typing import get_type_hints\n",
    "from babisteps.basemodels.nodes import Entity, Relationship\n",
    "from babisteps.tasks.immediateorder.utils import _get_generators,_get_list_relations, _get_relations_by_type\n",
    "from babisteps.tasks.immediateorder.utils import relations_type_to_entities_dict"
   ]
  },
  {
   "cell_type": "code",
   "execution_count": null,
   "metadata": {},
   "outputs": [],
   "source": [
    "# yaml_path\n",
    "yaml_common_path = './../babisteps/tasks/commons.yaml'\n",
    "# Load the yaml file in yaml_test variable\n",
    "with open(yaml_common_path, 'r') as file:\n",
    "    yaml_commons = yaml.safe_load(file)"
   ]
  },
  {
   "cell_type": "code",
   "execution_count": null,
   "metadata": {},
   "outputs": [],
   "source": [
    "output_path = Path('/home/giskard/Documents/POKTscan/code/bAbI-steps/outputs')\n",
    "# add output_path to yaml_commons \n",
    "yaml_commons['output_path'] = output_path"
   ]
  },
  {
   "cell_type": "markdown",
   "metadata": {},
   "source": [
    "# ImmediateOrderRequestPolar"
   ]
  },
  {
   "cell_type": "code",
   "execution_count": null,
   "metadata": {},
   "outputs": [],
   "source": [
    "edge_qty = 8\n",
    "relations_qty = 3\n",
    "n_entities = 7\n",
    "answer = \"unknown\"\n",
    "verbosity = \"INFO\"\n",
    "gen_kwargs = {}\n",
    "path = os.path.join(os.getcwd())\n",
    "\n",
    "\n",
    "total_relations = yaml_commons.get(\"relations\")\n",
    "relation_types_compatibility = yaml_commons.get(\"relation_types_compatibility\")\n",
    "entity_choice = random.choice([\"actors\", \"locations\", \"objects\", \"events\"])\n",
    "print(entity_choice)\n",
    "shape_str = (entity_choice,)\n",
    "# Pick a random relation type\n",
    "r_type_g = random.choice(\n",
    "    list(get_type_hints(ImmediateOrderRequestWhat)[\"relation_type\"].__args__)\n",
    ")\n",
    "\n",
    "r_name_by_r_type = _get_relations_by_type(total_relations)"
   ]
  },
  {
   "cell_type": "code",
   "execution_count": null,
   "metadata": {},
   "outputs": [],
   "source": [
    "# Get relations compatible with the selected type\n",
    "relations = _get_list_relations(\n",
    "    r_type_g,\n",
    "    r_name_by_r_type,\n",
    "    relations_qty,\n",
    "    total_relations,\n",
    "    relation_types_compatibility,\n",
    ")"
   ]
  },
  {
   "cell_type": "code",
   "execution_count": null,
   "metadata": {},
   "outputs": [],
   "source": [
    "# Get entities compatible with the selected relation type\n",
    "entitie_type = random.choice(relations_type_to_entities_dict[r_type_g])\n",
    "local_entities = yaml_commons.get(entitie_type)\n",
    "entities = np.random.choice(\n",
    "    local_entities, size=n_entities, replace=False\n",
    ").tolist()\n",
    "entities = [Entity(name=entity) for entity in entities]\n",
    "# Create the model\n",
    "model = ImmediateOrderModel(entities=entities, relations=relations)\n",
    "\n",
    "topic = ImmediateOrderRequestWhat(\n",
    "    answer=answer,\n",
    "    relation_type=relations[0].relation_type,\n",
    "    shape_str=shape_str,\n",
    ")"
   ]
  },
  {
   "cell_type": "code",
   "execution_count": null,
   "metadata": {},
   "outputs": [],
   "source": [
    "generator = ImmediateOrder(\n",
    "    model=deepcopy(model)._shuffle(),\n",
    "    edge_qty=edge_qty,\n",
    "    topic=topic,\n",
    "    shape_str=shape_str,\n",
    "    verbosity=verbosity,\n",
    "    log_file=os.path.join(path, \"logs.txt\"),\n",
    "    **gen_kwargs if gen_kwargs is not None else {},    \n",
    "\n",
    ")"
   ]
  },
  {
   "cell_type": "code",
   "execution_count": null,
   "metadata": {},
   "outputs": [],
   "source": [
    "generator.generate()"
   ]
  },
  {
   "cell_type": "code",
   "execution_count": null,
   "metadata": {},
   "outputs": [],
   "source": [
    "print(generator.topic.get_question())\n",
    "for GS, r in zip(generator.graphs, generator.model.relations):\n",
    "    pos = nx.drawing.nx_agraph.graphviz_layout(GS.g, prog='dot')\n",
    "    # Create a dictionary mapping nodes to their entity attributes\n",
    "    node_labels = {node: data.get('entity').name for node, data in GS.g.nodes(data=True)}\n",
    "    # Draw the graph with custom labels\n",
    "    nx.draw(GS.g, pos, labels=node_labels, node_color='lightblue', node_size=1500, arrowsize=20)\n",
    "    plt.title(r.name, fontsize=20)\n",
    "    plt.show()"
   ]
  },
  {
   "cell_type": "code",
   "execution_count": null,
   "metadata": {},
   "outputs": [],
   "source": [
    "json = generator.get_json()"
   ]
  },
  {
   "cell_type": "code",
   "execution_count": null,
   "metadata": {},
   "outputs": [],
   "source": [
    "txt = generator.get_txt()"
   ]
  }
 ],
 "metadata": {
  "kernelspec": {
   "display_name": "babisteps-jEjEzKkT-py3.12",
   "language": "python",
   "name": "python3"
  },
  "language_info": {
   "codemirror_mode": {
    "name": "ipython",
    "version": 3
   },
   "file_extension": ".py",
   "mimetype": "text/x-python",
   "name": "python",
   "nbconvert_exporter": "python",
   "pygments_lexer": "ipython3",
   "version": "3.12.3"
  }
 },
 "nbformat": 4,
 "nbformat_minor": 2
}
