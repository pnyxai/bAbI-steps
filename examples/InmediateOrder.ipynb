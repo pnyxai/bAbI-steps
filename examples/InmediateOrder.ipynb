{
 "cells": [
  {
   "cell_type": "code",
   "execution_count": null,
   "metadata": {},
   "outputs": [],
   "source": [
    "%load_ext autoreload\n",
    "%autoreload 2"
   ]
  },
  {
   "cell_type": "code",
   "execution_count": null,
   "metadata": {},
   "outputs": [],
   "source": [
    "import os\n",
    "import sys\n",
    "import networkx as nx\n",
    "from babisteps.basemodels.nodes import Entity, Relationship\n",
    "from babisteps.basemodels.inmediateorder import ImmediateOrder, ImmediateOrderModel, ImmediateOrderRequestPolar\n",
    "import numpy as np\n",
    "from sparse._dok import DOK\n",
    "from copy import deepcopy\n",
    "from sparse._sparse_array import SparseArray\n",
    "import random\n",
    "import logging\n",
    "from matplotlib import pyplot as plt"
   ]
  },
  {
   "cell_type": "code",
   "execution_count": null,
   "metadata": {},
   "outputs": [],
   "source": [
    "events_str = [\"the party\",\"christmas\",\"the wedding\",\"the funeral\", \"the birthday\", \"the concert\", \"the festival\", \"the conference\"]\n",
    "events = [Entity(name=event) for event in events_str]\n",
    "random.shuffle(events)\n",
    "relations_str = [\"before-after\", \"above-below\"]\n",
    "relations = [Relationship(name=relation) for relation in relations_str]\n",
    "random.shuffle(relations)\n",
    "answer = \"no\"\n",
    "relation_type = \"relative_event\"\n",
    "edge_qty = 15\n",
    "verbosity = logging.INFO\n",
    "topic = ImmediateOrderRequestPolar(\n",
    "    answer=answer,\n",
    "    relation_type=relation_type\n",
    ")\n",
    "path = os.path.join(os.getcwd())\n",
    "model = ImmediateOrderModel(entities=events, relations=relations)\n",
    "gen_kwargs = {}"
   ]
  },
  {
   "cell_type": "code",
   "execution_count": null,
   "metadata": {},
   "outputs": [],
   "source": [
    "generator = ImmediateOrder(\n",
    "    model=deepcopy(model)._shuffle(),\n",
    "    edge_qty=edge_qty,\n",
    "    topic=topic,\n",
    "    verbosity=verbosity,\n",
    "    log_file=os.path.join(path, \"logs.txt\"),\n",
    "    **gen_kwargs if gen_kwargs is not None else {},    \n",
    "\n",
    ")"
   ]
  },
  {
   "cell_type": "code",
   "execution_count": null,
   "metadata": {},
   "outputs": [],
   "source": [
    "generator.generate()"
   ]
  },
  {
   "cell_type": "code",
   "execution_count": null,
   "metadata": {},
   "outputs": [],
   "source": [
    "for GS in generator.graphs:\n",
    "    pos = nx.drawing.nx_agraph.graphviz_layout(GS.g, prog='dot') # 'dot' is a layout engine in graphviz for directed graphs\n",
    "    nx.draw(GS.g, pos, with_labels=True, node_color='lightblue', node_size=1500, arrowsize=20)\n",
    "    plt.show()"
   ]
  },
  {
   "cell_type": "code",
   "execution_count": null,
   "metadata": {},
   "outputs": [],
   "source": []
  },
  {
   "cell_type": "code",
   "execution_count": null,
   "metadata": {},
   "outputs": [],
   "source": []
  }
 ],
 "metadata": {
  "kernelspec": {
   "display_name": "babisteps-jEjEzKkT-py3.12",
   "language": "python",
   "name": "python3"
  },
  "language_info": {
   "codemirror_mode": {
    "name": "ipython",
    "version": 3
   },
   "file_extension": ".py",
   "mimetype": "text/x-python",
   "name": "python",
   "nbconvert_exporter": "python",
   "pygments_lexer": "ipython3",
   "version": "3.12.3"
  }
 },
 "nbformat": 4,
 "nbformat_minor": 2
}
