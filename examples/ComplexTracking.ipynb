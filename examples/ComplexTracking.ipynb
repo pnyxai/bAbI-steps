{
 "cells": [
  {
   "cell_type": "code",
   "execution_count": 1,
   "metadata": {},
   "outputs": [],
   "source": [
    "%load_ext autoreload\n",
    "%autoreload 2"
   ]
  },
  {
   "cell_type": "code",
   "execution_count": 2,
   "metadata": {},
   "outputs": [],
   "source": [
    "import os\n",
    "import sys\n",
    "\n",
    "sys.path.append(\"./../\")\n",
    "import logging\n",
    "import random\n",
    "from copy import deepcopy\n",
    "from typing import get_type_hints\n",
    "import numpy as np\n",
    "\n",
    "from babisteps.basemodels.complextracking import (\n",
    "    ComplexTracking,\n",
    "    ObjectInLocationWhat,\n",
    "    ObjectsInLocation,\n",
    ")\n",
    "from babisteps.basemodels.nodes import Coordenate, Entity\n",
    "\n",
    "np.set_printoptions(threshold=sys.maxsize)\n"
   ]
  },
  {
   "cell_type": "code",
   "execution_count": 3,
   "metadata": {},
   "outputs": [],
   "source": [
    "# gen_kwargs = {\n",
    "#     \"p_object_in_actor\": 0.5,\n",
    "#     \"p_antilocation\": 0.5\n",
    "# }\n",
    "\n",
    "# gen_kwargs = {\n",
    "# \"p_nowhere_OR\": 0.001,\n",
    "# \"method_p_nowhere_OR\": 'fix'\n",
    "# }\n",
    "gen_kwargs = None\n"
   ]
  },
  {
   "cell_type": "code",
   "execution_count": 4,
   "metadata": {},
   "outputs": [],
   "source": [
    "# List of 10 random objects in a house\n",
    "objects_list = [\n",
    "    \"z_0\",\n",
    "    \"z_1\",\n",
    "    \"z_2\",\n",
    "    \"z_3\",\n",
    "    \"z_4\",\n",
    "    \"z_5\",\n",
    "    \"z_6\",\n",
    "    \"z_7\",\n",
    "    \"z_8\",\n",
    "    \"z_9\",\n",
    "    \"z_10\",\n",
    "]\n",
    "\n",
    "objects = [Entity(name=entity) for entity in objects_list]\n",
    "random.shuffle(objects)\n",
    "\n",
    "actor_list = [\"y_0\", \"y_1\", \"y_2\", \"y_3\", \"y_4\", \"y_5\"]\n",
    "actors = [Coordenate(name=entity) for entity in actor_list]\n",
    "random.shuffle(actors)\n",
    "location_list = [\"x_0\", \"x_1\", \"x_2\", \"x_3\"]\n",
    "locations = [Coordenate(name=coordenate) for coordenate in location_list]\n",
    "random.shuffle(locations)\n",
    "\n",
    "path = os.path.join(os.getcwd())\n",
    "model = ObjectsInLocation(dim0=locations, dim1=actors, dim2=objects)"
   ]
  },
  {
   "cell_type": "code",
   "execution_count": 5,
   "metadata": {},
   "outputs": [
    {
     "data": {
      "text/plain": [
       "['designated_object', 'none', 'unknown']"
      ]
     },
     "execution_count": 5,
     "metadata": {},
     "output_type": "execute_result"
    }
   ],
   "source": [
    "#list of the \n",
    "\n",
    "list(get_type_hints(ObjectInLocationWhat)['answer'].__args__)"
   ]
  },
  {
   "cell_type": "code",
   "execution_count": 6,
   "metadata": {},
   "outputs": [],
   "source": [
    "answer = \"unknown\"  # [\"yes\", \"no\", \"unknown\"]\n",
    "topic = ObjectInLocationWhat(\n",
    "    answer=answer,\n",
    ")\n",
    "states_qty = 30\n",
    "verbosity = logging.INFO\n",
    "\n",
    "# answer = \"unknown\"  # [\"yes\", \"no\", \"unknown\"]\n",
    "# topic = ObjectInLocationWhere(\n",
    "#     answer=answer,\n",
    "# )\n",
    "# states_qty = 15\n",
    "#verbosity = logging.DEBUG"
   ]
  },
  {
   "cell_type": "code",
   "execution_count": 7,
   "metadata": {},
   "outputs": [
    {
     "name": "stdout",
     "output_type": "stream",
     "text": [
      "{\"logger\": \"ComplexTracking\", \"level\": \"info\", \"event\": \"Probability values\", \"p_antilocation\": 0.5, \"p_object_in_actor\": 0.8571428571428572, \"p_nowhere_OR\": null, \"method_p_nowhere_OR\": null, \"p_move_object_tx\": 0.5}\n"
     ]
    }
   ],
   "source": [
    "# %%timeit\n",
    "generator = ComplexTracking(\n",
    "    model=deepcopy(model)._shuffle(),\n",
    "    states_qty=states_qty,\n",
    "    topic=topic,\n",
    "    verbosity=verbosity,\n",
    "    shape_str=(\"Location\", \"Actor\", \"Object\"),\n",
    "    log_file=os.path.join(path, \"logs.txt\"),\n",
    "    **gen_kwargs if gen_kwargs is not None else {},\n",
    ")\n"
   ]
  },
  {
   "cell_type": "code",
   "execution_count": 8,
   "metadata": {},
   "outputs": [],
   "source": [
    "generator.name"
   ]
  },
  {
   "cell_type": "code",
   "execution_count": 12,
   "metadata": {},
   "outputs": [
    {
     "data": {
      "text/plain": [
       "{'model': ObjectsInLocation(dim0=[Coordenate(name='x_3'), Coordenate(name='x_0'), Coordenate(name='x_1'), Coordenate(name='x_2')], dim1=[Coordenate(name='y_5'), Coordenate(name='y_1'), Coordenate(name='y_4'), Coordenate(name='y_3'), Coordenate(name='y_2'), Coordenate(name='y_0')], dim2=[Entity(name='z_10'), Entity(name='z_6'), Entity(name='z_5'), Entity(name='z_4'), Entity(name='z_1'), Entity(name='z_9'), Entity(name='z_0'), Entity(name='z_8'), Entity(name='z_2'), Entity(name='z_7'), Entity(name='z_3')]),\n",
       " 'states_qty': 30,\n",
       " 'topic': ObjectInLocationWhat(answer='unknown', d0=None, d1=None, d2=None),\n",
       " 'verbosity': 20,\n",
       " 'shape_str': ('Location', 'Actor', 'Object'),\n",
       " 'log_file': '/home/giskard/Documents/POKTscan/code/bAbI-steps/examples/logs.txt'}"
      ]
     },
     "execution_count": 12,
     "metadata": {},
     "output_type": "execute_result"
    }
   ],
   "source": [
    "generator.original_inputs"
   ]
  },
  {
   "cell_type": "code",
   "execution_count": null,
   "metadata": {},
   "outputs": [],
   "source": [
    "generator.create_ontology()"
   ]
  },
  {
   "cell_type": "code",
   "execution_count": null,
   "metadata": {},
   "outputs": [],
   "source": [
    "generator.create_fol()"
   ]
  },
  {
   "cell_type": "code",
   "execution_count": null,
   "metadata": {},
   "outputs": [],
   "source": [
    "generator.create_nl()"
   ]
  },
  {
   "cell_type": "code",
   "execution_count": null,
   "metadata": {},
   "outputs": [],
   "source": [
    "generator.nl"
   ]
  }
 ],
 "metadata": {
  "kernelspec": {
   "display_name": "babisteps-jEjEzKkT-py3.12",
   "language": "python",
   "name": "python3"
  },
  "language_info": {
   "codemirror_mode": {
    "name": "ipython",
    "version": 3
   },
   "file_extension": ".py",
   "mimetype": "text/x-python",
   "name": "python",
   "nbconvert_exporter": "python",
   "pygments_lexer": "ipython3",
   "version": "3.12.3"
  }
 },
 "nbformat": 4,
 "nbformat_minor": 2
}
