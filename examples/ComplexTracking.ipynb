{
 "cells": [
  {
   "cell_type": "code",
   "execution_count": null,
   "metadata": {},
   "outputs": [],
   "source": [
    "%load_ext autoreload\n",
    "%autoreload 2"
   ]
  },
  {
   "cell_type": "code",
   "execution_count": null,
   "metadata": {},
   "outputs": [],
   "source": [
    "import os\n",
    "import sys\n",
    "\n",
    "sys.path.append(\"./../\")\n",
    "import logging\n",
    "import random\n",
    "from copy import deepcopy\n",
    "import numpy as np\n",
    "\n",
    "from babisteps.basemodels.generators import (\n",
    "    ObjectsInLocation,\n",
    "    ObjectInLocationPolar,\n",
    "    ComplexTracking,\n",
    "    ObjectInLocationWhat,\n",
    "    ObjectInLocationWhere\n",
    ")\n",
    "from babisteps.utils import operators as ops\n",
    "from babisteps.basemodels.nodes import Coordenate, Entity\n",
    "np.set_printoptions(threshold=sys.maxsize)\n"
   ]
  },
  {
   "cell_type": "code",
   "execution_count": null,
   "metadata": {},
   "outputs": [],
   "source": [
    "# List of 10 random objects in a house\n",
    "objects_list = [\n",
    "    \"pencil\",\n",
    "    \"book\",\n",
    "    \"phone\",\n",
    "    \"computer\",\n",
    "    \"cards\",\n",
    "    \"keys\",\n",
    "    \"wallet\",\n",
    "    \"watch\",\n",
    "    \"glasses\",\n",
    "    \"pen\",\n",
    "    \"headphones\",\n",
    "    \"charger\",\n",
    "    \"backpack\",\n",
    "    \"bag\",\n",
    "    \"hat\",\n",
    "    \n",
    "]\n",
    "\n",
    "objects = [Entity(name=entity) for entity in objects_list]\n",
    "random.shuffle(objects)\n",
    "\n",
    "actor_list = [\n",
    "    \"alice\",\n",
    "    \"bob\",\n",
    "    \"charlie\",\n",
    "    \"doe\",\n",
    "    \"eve\",\n",
    "    \"frank\",\n",
    "    \"george\",\n",
    "    \"harry\",\n",
    "    \"irene\",\n",
    "    \"jane\",\n",
    "\n",
    "\n",
    "]\n",
    "actors = [Coordenate(name=entity) for entity in actor_list]\n",
    "random.shuffle(actors)\n",
    "location_list = [\"kitchen\", \"living room\", \"bedroom\"]# \"bathroom\"] \n",
    "locations = [Coordenate(name=coordenate) for coordenate in location_list]\n",
    "random.shuffle(locations)\n",
    "\n",
    "path = os.path.join(os.getcwd())\n",
    "model = ObjectsInLocation(dim0=locations, dim1=actors, dim2=objects)"
   ]
  },
  {
   "cell_type": "code",
   "execution_count": null,
   "metadata": {},
   "outputs": [],
   "source": [
    "answer = \"designated_location\"  # [\"yes\", \"no\", \"unknown\"]\n",
    "topic = ObjectInLocationWhere(\n",
    "    answer=answer,\n",
    ")\n",
    "states_qty = 4\n",
    "verbosity = logging.INFO\n",
    "\n",
    "# answer = \"unknown\"  # [\"yes\", \"no\", \"unknown\"]\n",
    "# topic = ObjectInLocationWhere(\n",
    "#     answer=answer,\n",
    "# )\n",
    "# states_qty = 15\n",
    "# verbosity = logging.DEBUG"
   ]
  },
  {
   "cell_type": "code",
   "execution_count": null,
   "metadata": {},
   "outputs": [],
   "source": [
    "#%%timeit\n",
    "generator = ComplexTracking(\n",
    "    model=deepcopy(model)._shuffle(),\n",
    "    states_qty=states_qty,\n",
    "    topic=topic,\n",
    "    verbosity=verbosity,\n",
    "    shape_str=(\"Location\", \"Actor\", \"Object\"),\n",
    "    log_file=os.path.join(path, \"logs.txt\"),\n",
    ")\n",
    "generator.create_ontology()"
   ]
  }
 ],
 "metadata": {
  "kernelspec": {
   "display_name": "babisteps-jEjEzKkT-py3.12",
   "language": "python",
   "name": "python3"
  },
  "language_info": {
   "codemirror_mode": {
    "name": "ipython",
    "version": 3
   },
   "file_extension": ".py",
   "mimetype": "text/x-python",
   "name": "python",
   "nbconvert_exporter": "python",
   "pygments_lexer": "ipython3",
   "version": "3.12.3"
  }
 },
 "nbformat": 4,
 "nbformat_minor": 2
}
