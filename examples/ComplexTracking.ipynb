{
 "cells": [
  {
   "cell_type": "code",
   "execution_count": 1,
   "metadata": {},
   "outputs": [],
   "source": [
    "%load_ext autoreload\n",
    "%autoreload 2"
   ]
  },
  {
   "cell_type": "code",
   "execution_count": 2,
   "metadata": {},
   "outputs": [],
   "source": [
    "\n",
    "import sys\n",
    "\n",
    "sys.path.append(\"./../\")\n",
    "import logging\n",
    "import random\n",
    "from copy import deepcopy\n",
    "import numpy as np\n",
    "\n",
    "from babisteps.basemodels.generators import (\n",
    "    ObjectsInLocation,\n",
    "    ObjectInLocationPolar,\n",
    "    ComplexTracking,\n",
    ")\n",
    "from babisteps.basemodels.nodes import Coordenate, Entity"
   ]
  },
  {
   "cell_type": "code",
   "execution_count": 11,
   "metadata": {},
   "outputs": [],
   "source": [
    "# List of 10 random objects in a house\n",
    "objects_list = [\n",
    "    \"pencil\",\n",
    "    \"book\",\n",
    "    \"phone\",\n",
    "    \"computer\",\n",
    "    \"cards\",\n",
    "#    \"keys\",\n",
    "#    \"glasses\",\n",
    "#    \"wallet\",\n",
    "#    \"watch\",\n",
    "#    \"ring\",\n",
    "]\n",
    "\n",
    "objects = [Entity(name=entity) for entity in objects_list]\n",
    "random.shuffle(objects)\n",
    "\n",
    "actor_list = [\n",
    "    \"jhon\",\n",
    "    \"doe\",\n",
    "    \"alice\",\n",
    "    \"bob\",\n",
    "#    \"charlie\",\n",
    "#    \"david\",\n",
    "#    \"eve\",\n",
    "#    \"frank\",\n",
    "#    \"grace\",\n",
    "#    \"heidi\",\n",
    "]\n",
    "actors = [Coordenate(name=entity) for entity in actor_list]\n",
    "random.shuffle(actors)\n",
    "location_list = [\"kitchen\", \"living room\", \"garage\"]\n",
    "locations = [\n",
    "    Coordenate(name=coordenate) for coordenate in location_list\n",
    "]\n",
    "random.shuffle(locations)\n",
    "\n",
    "model = ObjectsInLocation(\n",
    "    dim0=locations,\n",
    "    dim1=actors,\n",
    "    dim2=objects\n",
    ")"
   ]
  },
  {
   "cell_type": "code",
   "execution_count": 19,
   "metadata": {},
   "outputs": [],
   "source": [
    "answer = \"no\"  # [\"yes\", \"no\", \"unknown\"]\n",
    "topic = ObjectInLocationPolar(\n",
    "    answer=answer,\n",
    ")\n",
    "states_qty = 25\n",
    "verbosity = logging.DEBUG"
   ]
  },
  {
   "cell_type": "code",
   "execution_count": 20,
   "metadata": {},
   "outputs": [],
   "source": [
    "generator = ComplexTracking(\n",
    "    model=deepcopy(model)._shuffle(),\n",
    "    states_qty=states_qty,\n",
    "    topic=topic,\n",
    "    verbosity=verbosity,\n",
    "    shape_str=(\"Location\", \"Actor\", \"Object\")\n",
    ")"
   ]
  },
  {
   "cell_type": "code",
   "execution_count": null,
   "metadata": {},
   "outputs": [],
   "source": [
    "generator.create_ontology()"
   ]
  },
  {
   "cell_type": "code",
   "execution_count": 24,
   "metadata": {},
   "outputs": [],
   "source": [
    "generator.create_fol()\n",
    "generator.create_nl()"
   ]
  },
  {
   "cell_type": "code",
   "execution_count": null,
   "metadata": {},
   "outputs": [],
   "source": [
    "for p in generator.nl:\n",
    "    print(p)\n",
    "print(generator.topic.get_question())\n",
    "print(generator.topic.get_answer())"
   ]
  }
 ],
 "metadata": {
  "kernelspec": {
   "display_name": "babisteps-jEjEzKkT-py3.12",
   "language": "python",
   "name": "python3"
  },
  "language_info": {
   "codemirror_mode": {
    "name": "ipython",
    "version": 3
   },
   "file_extension": ".py",
   "mimetype": "text/x-python",
   "name": "python",
   "nbconvert_exporter": "python",
   "pygments_lexer": "ipython3",
   "version": "3.12.3"
  }
 },
 "nbformat": 4,
 "nbformat_minor": 2
}
