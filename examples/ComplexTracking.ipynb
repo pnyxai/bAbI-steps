{
 "cells": [
  {
   "cell_type": "code",
   "execution_count": null,
   "metadata": {},
   "outputs": [],
   "source": [
    "%load_ext autoreload\n",
    "%autoreload 2"
   ]
  },
  {
   "cell_type": "code",
   "execution_count": null,
   "metadata": {},
   "outputs": [],
   "source": [
    "import os\n",
    "import sys\n",
    "\n",
    "sys.path.append(\"./../\")\n",
    "import logging\n",
    "import random\n",
    "from copy import deepcopy\n",
    "import numpy as np\n",
    "\n",
    "from babisteps.basemodels.generators import (\n",
    "    ObjectsInLocation,\n",
    "    ObjectInLocationPolar,\n",
    "    ComplexTracking,\n",
    "    ObjectInLocationWhat,\n",
    "    ObjectInLocationWhere\n",
    ")\n",
    "from babisteps.utils import operators as ops\n",
    "from babisteps.basemodels.nodes import Coordenate, Entity\n",
    "np.set_printoptions(threshold=sys.maxsize)\n"
   ]
  },
  {
   "cell_type": "code",
   "execution_count": null,
   "metadata": {},
   "outputs": [],
   "source": [
    "# gen_kwargs = {\n",
    "#     \"p_object_in_actor\": 0.5,\n",
    "#     \"p_antilocation\": 0.5\n",
    "# }\n",
    "gen_kwargs = None"
   ]
  },
  {
   "cell_type": "code",
   "execution_count": null,
   "metadata": {},
   "outputs": [],
   "source": [
    "# List of 10 random objects in a house\n",
    "objects_list = [\n",
    "    \"z_0\",\n",
    "    \"z_1\",\n",
    "    \"z_2\",\n",
    "    \"z_3\",\n",
    "    \"z_4\",\n",
    "    \"z_5\",\n",
    "    \"z_6\",\n",
    "    \"z_7\",\n",
    "    \"z_8\",\n",
    "    \"z_9\",\n",
    "    \"z_10\",\n",
    "]\n",
    "\n",
    "objects = [Entity(name=entity) for entity in objects_list]\n",
    "random.shuffle(objects)\n",
    "\n",
    "actor_list = [\n",
    "    \"y_0\",\n",
    "    \"y_1\",\n",
    "    \"y_2\",\n",
    "    \"y_3\",\n",
    "    \"y_4\",\n",
    "    \"y_5\",\n",
    "\n",
    "\n",
    "\n",
    "]\n",
    "actors = [Coordenate(name=entity) for entity in actor_list]\n",
    "random.shuffle(actors)\n",
    "location_list = [\"x_0\", \"x_1\", \"x_2\", \"x_3\"] \n",
    "locations = [Coordenate(name=coordenate) for coordenate in location_list]\n",
    "random.shuffle(locations)\n",
    "\n",
    "path = os.path.join(os.getcwd())\n",
    "model = ObjectsInLocation(dim0=locations, dim1=actors, dim2=objects)"
   ]
  },
  {
   "cell_type": "code",
   "execution_count": null,
   "metadata": {},
   "outputs": [],
   "source": [
    "answer = \"designated_location\"  # [\"yes\", \"no\", \"unknown\"]\n",
    "topic = ObjectInLocationWhere(\n",
    "    answer=answer,\n",
    ")\n",
    "states_qty = 20\n",
    "verbosity = logging.INFO\n",
    "\n",
    "# answer = \"unknown\"  # [\"yes\", \"no\", \"unknown\"]\n",
    "# topic = ObjectInLocationWhere(\n",
    "#     answer=answer,\n",
    "# )\n",
    "# states_qty = 15\n",
    "# verbosity = logging.DEBUG"
   ]
  },
  {
   "cell_type": "code",
   "execution_count": null,
   "metadata": {},
   "outputs": [],
   "source": [
    "#%%timeit\n",
    "generator = ComplexTracking(\n",
    "    model=deepcopy(model)._shuffle(),\n",
    "    states_qty=states_qty,\n",
    "    topic=topic,\n",
    "    verbosity=verbosity,\n",
    "    shape_str=(\"Location\", \"Actor\", \"Object\"),\n",
    "    log_file=os.path.join(path, \"logs.txt\"),\n",
    "    **gen_kwargs if gen_kwargs is not None else {},\n",
    ")\n",
    "generator.create_ontology()"
   ]
  },
  {
   "cell_type": "code",
   "execution_count": null,
   "metadata": {},
   "outputs": [],
   "source": [
    "generator.create_fol()"
   ]
  },
  {
   "cell_type": "code",
   "execution_count": null,
   "metadata": {},
   "outputs": [],
   "source": [
    "generator.create_nl()"
   ]
  },
  {
   "cell_type": "code",
   "execution_count": null,
   "metadata": {},
   "outputs": [],
   "source": [
    "generator.nl"
   ]
  }
 ],
 "metadata": {
  "kernelspec": {
   "display_name": "babisteps-jEjEzKkT-py3.12",
   "language": "python",
   "name": "python3"
  },
  "language_info": {
   "codemirror_mode": {
    "name": "ipython",
    "version": 3
   },
   "file_extension": ".py",
   "mimetype": "text/x-python",
   "name": "python",
   "nbconvert_exporter": "python",
   "pygments_lexer": "ipython3",
   "version": "3.12.3"
  }
 },
 "nbformat": 4,
 "nbformat_minor": 2
}
