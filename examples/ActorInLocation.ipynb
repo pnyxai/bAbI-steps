{
 "cells": [
  {
   "cell_type": "code",
   "execution_count": 1,
   "metadata": {},
   "outputs": [],
   "source": [
    "import sys\n",
    "sys.path.append('./../app/')\n",
    "import random\n",
    "from basemodels import generators"
   ]
  },
  {
   "cell_type": "code",
   "execution_count": 2,
   "metadata": {},
   "outputs": [],
   "source": [
    "actors = ['jhon', 'doe', 'alice', 'bob', 'charlie', 'david', 'eve', 'frank', 'grace', 'heidi']\n",
    "random.shuffle(actors)\n",
    "# differents places in a hous, 5 locations\n",
    "locations = ['kitchen', 'living room', 'bedroom', 'bathroom', 'garden']\n",
    "random.shuffle(locations)\n",
    "\n",
    "entities = generators.ActorsInLocationsEntities(actors = actors, locations = locations)\n",
    "states_qty = 12\n",
    "answer = 2\n",
    "min_transitions = 3\n",
    "max_transitions = 3\n",
    "verbosity = 1"
   ]
  },
  {
   "cell_type": "code",
   "execution_count": 3,
   "metadata": {},
   "outputs": [
    {
     "name": "stdout",
     "output_type": "stream",
     "text": [
      "{\"answer\": 2, \"a\": \"david\", \"l\": \"living room\", \"event\": \"Creating ActorsInLocaltionsPolar\", \"logger\": \"ActorsInLocaltionsPolar\", \"level\": \"info\"}\n",
      "{\"i\": 0, \"event\": \"Creating Answer:\", \"logger\": \"ActorsInLocaltionsPolar\", \"level\": \"info\"}\n"
     ]
    },
    {
     "data": {
      "text/plain": [
       "[ActorInLocationState(entities=[ActorInLocationEntityState(actor='david', location='nowhere'), ActorInLocationEntityState(actor='heidi', location='nowhere'), ActorInLocationEntityState(actor='charlie', location='nowhere'), ActorInLocationEntityState(actor='frank', location='garden'), ActorInLocationEntityState(actor='jhon', location='bathroom'), ActorInLocationEntityState(actor='eve', location='bedroom'), ActorInLocationEntityState(actor='grace', location='nowhere'), ActorInLocationEntityState(actor='alice', location='living room'), ActorInLocationEntityState(actor='doe', location='living room'), ActorInLocationEntityState(actor='bob', location='nowhere')], index=0),\n",
       " ActorInLocationState(entities=[ActorInLocationEntityState(actor='david', location='nowhere'), ActorInLocationEntityState(actor='heidi', location='nowhere'), ActorInLocationEntityState(actor='charlie', location='nowhere'), ActorInLocationEntityState(actor='frank', location='garden'), ActorInLocationEntityState(actor='jhon', location='bathroom'), ActorInLocationEntityState(actor='eve', location='bedroom'), ActorInLocationEntityState(actor='grace', location='nowhere'), ActorInLocationEntityState(actor='alice', location='nowhere'), ActorInLocationEntityState(actor='doe', location='living room'), ActorInLocationEntityState(actor='bob', location='living room')], index=1),\n",
       " ActorInLocationState(entities=[ActorInLocationEntityState(actor='david', location='nowhere'), ActorInLocationEntityState(actor='heidi', location='nowhere'), ActorInLocationEntityState(actor='charlie', location='nowhere'), ActorInLocationEntityState(actor='frank', location='garden'), ActorInLocationEntityState(actor='jhon', location='bathroom'), ActorInLocationEntityState(actor='eve', location='kitchen'), ActorInLocationEntityState(actor='grace', location='nowhere'), ActorInLocationEntityState(actor='alice', location='nowhere'), ActorInLocationEntityState(actor='doe', location='living room'), ActorInLocationEntityState(actor='bob', location='living room')], index=2),\n",
       " ActorInLocationState(entities=[ActorInLocationEntityState(actor='david', location='nowhere'), ActorInLocationEntityState(actor='heidi', location='kitchen'), ActorInLocationEntityState(actor='charlie', location='nowhere'), ActorInLocationEntityState(actor='frank', location='garden'), ActorInLocationEntityState(actor='jhon', location='bathroom'), ActorInLocationEntityState(actor='eve', location='kitchen'), ActorInLocationEntityState(actor='grace', location='kitchen'), ActorInLocationEntityState(actor='alice', location='nowhere'), ActorInLocationEntityState(actor='doe', location='living room'), ActorInLocationEntityState(actor='bob', location='kitchen')], index=3),\n",
       " ActorInLocationState(entities=[ActorInLocationEntityState(actor='david', location='nowhere'), ActorInLocationEntityState(actor='heidi', location='nowhere'), ActorInLocationEntityState(actor='charlie', location='nowhere'), ActorInLocationEntityState(actor='frank', location='bedroom'), ActorInLocationEntityState(actor='jhon', location='bathroom'), ActorInLocationEntityState(actor='eve', location='kitchen'), ActorInLocationEntityState(actor='grace', location='nowhere'), ActorInLocationEntityState(actor='alice', location='nowhere'), ActorInLocationEntityState(actor='doe', location='living room'), ActorInLocationEntityState(actor='bob', location='kitchen')], index=4),\n",
       " ActorInLocationState(entities=[ActorInLocationEntityState(actor='david', location='nowhere'), ActorInLocationEntityState(actor='heidi', location='bedroom'), ActorInLocationEntityState(actor='charlie', location='nowhere'), ActorInLocationEntityState(actor='frank', location='garden'), ActorInLocationEntityState(actor='jhon', location='bedroom'), ActorInLocationEntityState(actor='eve', location='kitchen'), ActorInLocationEntityState(actor='grace', location='nowhere'), ActorInLocationEntityState(actor='alice', location='nowhere'), ActorInLocationEntityState(actor='doe', location='living room'), ActorInLocationEntityState(actor='bob', location='kitchen')], index=5),\n",
       " ActorInLocationState(entities=[ActorInLocationEntityState(actor='david', location='nowhere'), ActorInLocationEntityState(actor='heidi', location='bedroom'), ActorInLocationEntityState(actor='charlie', location='garden'), ActorInLocationEntityState(actor='frank', location='garden'), ActorInLocationEntityState(actor='jhon', location='bedroom'), ActorInLocationEntityState(actor='eve', location='kitchen'), ActorInLocationEntityState(actor='grace', location='nowhere'), ActorInLocationEntityState(actor='alice', location='bedroom'), ActorInLocationEntityState(actor='doe', location='bedroom'), ActorInLocationEntityState(actor='bob', location='kitchen')], index=6),\n",
       " ActorInLocationState(entities=[ActorInLocationEntityState(actor='david', location='nowhere'), ActorInLocationEntityState(actor='heidi', location='kitchen'), ActorInLocationEntityState(actor='charlie', location='garden'), ActorInLocationEntityState(actor='frank', location='garden'), ActorInLocationEntityState(actor='jhon', location='bathroom'), ActorInLocationEntityState(actor='eve', location='kitchen'), ActorInLocationEntityState(actor='grace', location='nowhere'), ActorInLocationEntityState(actor='alice', location='bedroom'), ActorInLocationEntityState(actor='doe', location='nowhere'), ActorInLocationEntityState(actor='bob', location='kitchen')], index=7),\n",
       " ActorInLocationState(entities=[ActorInLocationEntityState(actor='david', location='nowhere'), ActorInLocationEntityState(actor='heidi', location='kitchen'), ActorInLocationEntityState(actor='charlie', location='garden'), ActorInLocationEntityState(actor='frank', location='nowhere'), ActorInLocationEntityState(actor='jhon', location='bathroom'), ActorInLocationEntityState(actor='eve', location='kitchen'), ActorInLocationEntityState(actor='grace', location='kitchen'), ActorInLocationEntityState(actor='alice', location='bedroom'), ActorInLocationEntityState(actor='doe', location='nowhere'), ActorInLocationEntityState(actor='bob', location='kitchen')], index=8),\n",
       " ActorInLocationState(entities=[ActorInLocationEntityState(actor='david', location='nowhere'), ActorInLocationEntityState(actor='heidi', location='kitchen'), ActorInLocationEntityState(actor='charlie', location='garden'), ActorInLocationEntityState(actor='frank', location='nowhere'), ActorInLocationEntityState(actor='jhon', location='garden'), ActorInLocationEntityState(actor='eve', location='kitchen'), ActorInLocationEntityState(actor='grace', location='kitchen'), ActorInLocationEntityState(actor='alice', location='bedroom'), ActorInLocationEntityState(actor='doe', location='nowhere'), ActorInLocationEntityState(actor='bob', location='bedroom')], index=9),\n",
       " ActorInLocationState(entities=[ActorInLocationEntityState(actor='david', location='nowhere'), ActorInLocationEntityState(actor='heidi', location='garden'), ActorInLocationEntityState(actor='charlie', location='garden'), ActorInLocationEntityState(actor='frank', location='nowhere'), ActorInLocationEntityState(actor='jhon', location='garden'), ActorInLocationEntityState(actor='eve', location='garden'), ActorInLocationEntityState(actor='grace', location='living room'), ActorInLocationEntityState(actor='alice', location='bedroom'), ActorInLocationEntityState(actor='doe', location='nowhere'), ActorInLocationEntityState(actor='bob', location='bedroom')], index=10),\n",
       " ActorInLocationState(entities=[ActorInLocationEntityState(actor='david', location='nowhere'), ActorInLocationEntityState(actor='heidi', location='garden'), ActorInLocationEntityState(actor='charlie', location='garden'), ActorInLocationEntityState(actor='frank', location='nowhere'), ActorInLocationEntityState(actor='jhon', location='nowhere'), ActorInLocationEntityState(actor='eve', location='bedroom'), ActorInLocationEntityState(actor='grace', location='living room'), ActorInLocationEntityState(actor='alice', location='living room'), ActorInLocationEntityState(actor='doe', location='nowhere'), ActorInLocationEntityState(actor='bob', location='bedroom')], index=11)]"
      ]
     },
     "execution_count": 3,
     "metadata": {},
     "output_type": "execute_result"
    }
   ],
   "source": [
    "generator = generators.ActorsInLocaltionsPolar(entities = entities,\n",
    "                                    states_qty = states_qty,\n",
    "                                    min_transitions = 3,\n",
    "                                    max_transitions= 3,\n",
    "                                    answer = answer)\n",
    "generator.create_ontology()\n",
    "generator.states"
   ]
  },
  {
   "cell_type": "code",
   "execution_count": 4,
   "metadata": {},
   "outputs": [],
   "source": [
    "generator.create_fol()"
   ]
  }
 ],
 "metadata": {
  "kernelspec": {
   "display_name": "babi-steps-jEjEzKkT-py3.12",
   "language": "python",
   "name": "python3"
  },
  "language_info": {
   "codemirror_mode": {
    "name": "ipython",
    "version": 3
   },
   "file_extension": ".py",
   "mimetype": "text/x-python",
   "name": "python",
   "nbconvert_exporter": "python",
   "pygments_lexer": "ipython3",
   "version": "3.12.3"
  }
 },
 "nbformat": 4,
 "nbformat_minor": 2
}
