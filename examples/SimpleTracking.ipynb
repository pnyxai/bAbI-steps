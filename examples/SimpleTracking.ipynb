{
 "cells": [
  {
   "cell_type": "code",
   "execution_count": 1,
   "metadata": {},
   "outputs": [],
   "source": [
    "%load_ext autoreload\n",
    "%autoreload 2"
   ]
  },
  {
   "cell_type": "code",
   "execution_count": 2,
   "metadata": {},
   "outputs": [],
   "source": [
    "import sys\n",
    "\n",
    "sys.path.append(\"./../\")\n",
    "import logging\n",
    "import random\n",
    "from copy import deepcopy\n",
    "\n",
    "from babisteps.basemodels.generators import (\n",
    "    ActorInLocationPolar,\n",
    "    ActorInLocationWhere,\n",
    "    ActorInLocationWho,\n",
    "    ActorWithObjectPolar,\n",
    "    ActorWithObjectWhat,\n",
    "    ActorWithObjectWho,\n",
    "    EntitiesInCoordenates,\n",
    "    SimpleTracker,\n",
    ")\n",
    "from babisteps.basemodels.nodes import Coordenate, Entity"
   ]
  },
  {
   "cell_type": "markdown",
   "metadata": {},
   "source": [
    "# WorldModel"
   ]
  },
  {
   "cell_type": "markdown",
   "metadata": {},
   "source": [
    "# ActorWithObjects"
   ]
  },
  {
   "cell_type": "code",
   "execution_count": 68,
   "metadata": {},
   "outputs": [],
   "source": [
    "# List of 10 random objects in a house\n",
    "entities_list = [\n",
    "    \"pencil\",\n",
    "    \"book\",\n",
    "    \"phone\",\n",
    "    \"computer\",\n",
    "    \"cards\",\n",
    "    \"keys\",\n",
    "    \"glasses\",\n",
    "    \"wallet\",\n",
    "    \"watch\",\n",
    "    \"ring\",\n",
    "]\n",
    "\n",
    "entities = [Entity(name=entity) for entity in entities_list]\n",
    "random.shuffle(entities)\n",
    "#\n",
    "coordenates_list = [\n",
    "    \"jhon\",\n",
    "    \"doe\",\n",
    "    \"alice\",\n",
    "    \"bob\",\n",
    "    \"charlie\",\n",
    "    \"david\",\n",
    "    \"eve\",\n",
    "    \"frank\",\n",
    "    \"grace\",\n",
    "    \"heidi\",\n",
    "]\n",
    "coordenates = [\n",
    "    Coordenate(name=coordenate) for coordenate in coordenates_list\n",
    "]\n",
    "random.shuffle(coordenates)\n",
    "\n",
    "model = EntitiesInCoordenates(\n",
    "    entities=entities,\n",
    "    coordenates=coordenates,\n",
    ")"
   ]
  },
  {
   "cell_type": "code",
   "execution_count": 69,
   "metadata": {},
   "outputs": [],
   "source": [
    "answer = \"none\"  # [\"yes\", \"no\"]\n",
    "topic = ActorWithObjectWho(\n",
    "    answer=answer,\n",
    ")\n",
    "states_qty = 24\n",
    "verbosity = logging.INFO"
   ]
  },
  {
   "cell_type": "code",
   "execution_count": null,
   "metadata": {},
   "outputs": [],
   "source": [
    "generator = SimpleTracker(\n",
    "    model=deepcopy(model)._shuffle(),\n",
    "    states_qty=states_qty,\n",
    "    topic=topic,\n",
    "    verbosity=verbosity,\n",
    "    shape_str=('Actor', 'Object')\n",
    ")\n",
    "generator.create_ontology()"
   ]
  },
  {
   "cell_type": "code",
   "execution_count": 71,
   "metadata": {},
   "outputs": [],
   "source": [
    "generator.create_fol()\n",
    "generator.create_nl()"
   ]
  },
  {
   "cell_type": "code",
   "execution_count": null,
   "metadata": {},
   "outputs": [],
   "source": [
    "for p in generator.nl:\n",
    "    print(p)\n",
    "print(generator.topic.get_question())\n",
    "print(generator.topic.get_answer())"
   ]
  },
  {
   "cell_type": "markdown",
   "metadata": {},
   "source": [
    "# ActorInLocation"
   ]
  },
  {
   "cell_type": "code",
   "execution_count": 3,
   "metadata": {},
   "outputs": [],
   "source": [
    "entities_list = [\n",
    "    \"jhon\",\n",
    "    \"doe\",\n",
    "    \"alice\",\n",
    "    \"bob\",\n",
    "    \"charlie\",\n",
    "    \"david\",\n",
    "    \"eve\",\n",
    "    \"frank\",\n",
    "    \"grace\",\n",
    "    \"heidi\",\n",
    "]\n",
    "entities = [Entity(name=entity) for entity in entities_list]\n",
    "random.shuffle(entities)\n",
    "coordenates_list = [\"kitchen\", \"living room\", \"bedroom\", \"bathroom\", \"garden\"]\n",
    "coordenates = [\n",
    "    Coordenate(name=coordenate) for coordenate in coordenates_list\n",
    "]\n",
    "random.shuffle(coordenates)\n",
    "\n",
    "model = EntitiesInCoordenates(\n",
    "    entities=entities,\n",
    "    coordenates=coordenates,\n",
    ")"
   ]
  },
  {
   "cell_type": "code",
   "execution_count": 4,
   "metadata": {},
   "outputs": [],
   "source": [
    "answer = \"unknown\"  # [\"designated_entity\", \"none\", \"unknown\"]\n",
    "topic = ActorInLocationWhere(\n",
    "    answer=answer,\n",
    ")\n",
    "states_qty = 24\n",
    "verbosity = logging.INFO"
   ]
  },
  {
   "cell_type": "code",
   "execution_count": null,
   "metadata": {},
   "outputs": [],
   "source": [
    "generator = SimpleTracker(\n",
    "    model=deepcopy(model)._shuffle(),\n",
    "    states_qty=states_qty,\n",
    "    topic=topic,\n",
    "    verbosity=verbosity,\n",
    "    shape_str=('Location', 'Actor')\n",
    ")\n",
    "generator.create_ontology()"
   ]
  },
  {
   "cell_type": "code",
   "execution_count": 22,
   "metadata": {},
   "outputs": [],
   "source": [
    "generator.create_fol()\n",
    "generator.create_nl()"
   ]
  },
  {
   "cell_type": "code",
   "execution_count": null,
   "metadata": {},
   "outputs": [],
   "source": [
    "for p in generator.nl:\n",
    "    print(p)\n",
    "print(generator.topic.get_question())\n",
    "print(generator.topic.get_answer())"
   ]
  }
 ],
 "metadata": {
  "kernelspec": {
   "display_name": "babisteps-jEjEzKkT-py3.12",
   "language": "python",
   "name": "python3"
  },
  "language_info": {
   "codemirror_mode": {
    "name": "ipython",
    "version": 3
   },
   "file_extension": ".py",
   "mimetype": "text/x-python",
   "name": "python",
   "nbconvert_exporter": "python",
   "pygments_lexer": "ipython3",
   "version": "3.12.3"
  }
 },
 "nbformat": 4,
 "nbformat_minor": 2
}
