{
 "cells": [
  {
   "cell_type": "code",
   "execution_count": 1,
   "metadata": {},
   "outputs": [],
   "source": [
    "%load_ext autoreload\n",
    "%autoreload 2"
   ]
  },
  {
   "cell_type": "code",
   "execution_count": 2,
   "metadata": {},
   "outputs": [],
   "source": [
    "import sys\n",
    "import os\n",
    "sys.path.append(\"./../\")\n",
    "import logging\n",
    "import random\n",
    "from copy import deepcopy\n",
    "\n",
    "from babisteps.basemodels.simpletracking import (\n",
    "    ActorInLocationPolar,\n",
    "    ActorInLocationWhere,\n",
    "    ActorInLocationWho,\n",
    "    ActorWithObjectPolar,\n",
    "    ActorWithObjectWhat,\n",
    "    ActorWithObjectWho,\n",
    "    EntitiesInCoordenates,\n",
    "    SimpleTracker,\n",
    ")\n",
    "from babisteps.basemodels.nodes import Coordenate, Entity"
   ]
  },
  {
   "cell_type": "code",
   "execution_count": null,
   "metadata": {},
   "outputs": [],
   "source": []
  },
  {
   "cell_type": "markdown",
   "metadata": {},
   "source": [
    "# WorldModel"
   ]
  },
  {
   "cell_type": "markdown",
   "metadata": {},
   "source": [
    "# ActorWithObjects"
   ]
  },
  {
   "cell_type": "code",
   "execution_count": 7,
   "metadata": {},
   "outputs": [],
   "source": [
    "path = os.path.join(os.getcwd())\n"
   ]
  },
  {
   "cell_type": "code",
   "execution_count": 8,
   "metadata": {},
   "outputs": [],
   "source": [
    "# List of 10 random objects in a house\n",
    "entities_list = [\n",
    "    \"pencil\",\n",
    "    \"book\",\n",
    "    \"phone\",\n",
    "    \"computer\",\n",
    "    \"cards\",\n",
    "    \"keys\",\n",
    "    \"glasses\",\n",
    "    \"wallet\",\n",
    "    \"watch\",\n",
    "    \"ring\",\n",
    "]\n",
    "\n",
    "entities = [Entity(name=entity) for entity in entities_list]\n",
    "random.shuffle(entities)\n",
    "#\n",
    "coordenates_list = [\n",
    "    \"jhon\",\n",
    "    \"doe\",\n",
    "    \"alice\",\n",
    "    \"bob\",\n",
    "    \"charlie\",\n",
    "    \"david\",\n",
    "    \"eve\",\n",
    "    \"frank\",\n",
    "    \"grace\",\n",
    "    \"heidi\",\n",
    "]\n",
    "coordenates = [\n",
    "    Coordenate(name=coordenate) for coordenate in coordenates_list\n",
    "]\n",
    "random.shuffle(coordenates)\n",
    "\n",
    "model = EntitiesInCoordenates(\n",
    "    entities=entities,\n",
    "    coordenates=coordenates,\n",
    ")"
   ]
  },
  {
   "cell_type": "code",
   "execution_count": 9,
   "metadata": {},
   "outputs": [],
   "source": [
    "answer = \"none\"  # [\"yes\", \"no\"]\n",
    "topic = ActorWithObjectWho(\n",
    "    answer=answer,\n",
    ")\n",
    "states_qty = 24\n",
    "verbosity = logging.INFO"
   ]
  },
  {
   "cell_type": "code",
   "execution_count": 10,
   "metadata": {},
   "outputs": [
    {
     "name": "stdout",
     "output_type": "stream",
     "text": [
      "{\"logger\": \"SimpleTracker\", \"level\": \"info\", \"event\": \"Creating Answer:\", \"i\": 23}\n",
      "{\"logger\": \"SimpleTracker\", \"level\": \"info\", \"event\": \"_actor_with_object_who successfully created\", \"answer\": \"none\", \"e\": \"computer\", \"c\": \"alice\"}\n",
      "{\"logger\": \"SimpleTracker\", \"level\": \"info\", \"event\": \"Transition\", \"i\": 0, \"transition\": \"array([[7, 4],\\n       [9, 4]])\"}\n",
      "{\"logger\": \"SimpleTracker\", \"level\": \"info\", \"event\": \"Transition\", \"i\": 1, \"transition\": \"array([[0, 7],\\n       [3, 7]])\"}\n",
      "{\"logger\": \"SimpleTracker\", \"level\": \"info\", \"event\": \"Transition\", \"i\": 2, \"transition\": \"array([[0, 8],\\n       [9, 8]])\"}\n",
      "{\"logger\": \"SimpleTracker\", \"level\": \"info\", \"event\": \"Transition\", \"i\": 3, \"transition\": \"array([[2, 6],\\n       [7, 6]])\"}\n",
      "{\"logger\": \"SimpleTracker\", \"level\": \"info\", \"event\": \"Transition\", \"i\": 4, \"transition\": \"array([[6, 1],\\n       [1, 1]])\"}\n",
      "{\"logger\": \"SimpleTracker\", \"level\": \"info\", \"event\": \"Transition\", \"i\": 5, \"transition\": \"array([[3, 9],\\n       [0, 9]])\"}\n",
      "{\"logger\": \"SimpleTracker\", \"level\": \"info\", \"event\": \"Transition\", \"i\": 6, \"transition\": \"array([[3, 7],\\n       [8, 7]])\"}\n",
      "{\"logger\": \"SimpleTracker\", \"level\": \"info\", \"event\": \"Transition\", \"i\": 7, \"transition\": \"array([[8, 5],\\n       [6, 5]])\"}\n",
      "{\"logger\": \"SimpleTracker\", \"level\": \"info\", \"event\": \"Transition\", \"i\": 8, \"transition\": \"array([[5, 3],\\n       [2, 3]])\"}\n",
      "{\"logger\": \"SimpleTracker\", \"level\": \"info\", \"event\": \"Transition\", \"i\": 9, \"transition\": \"array([[10,  2],\\n       [ 3,  2]])\"}\n",
      "{\"logger\": \"SimpleTracker\", \"level\": \"info\", \"event\": \"Transition\", \"i\": 10, \"transition\": \"array([[0, 9],\\n       [2, 9]])\"}\n",
      "{\"logger\": \"SimpleTracker\", \"level\": \"info\", \"event\": \"Transition\", \"i\": 11, \"transition\": \"array([[3, 2],\\n       [1, 2]])\"}\n",
      "{\"logger\": \"SimpleTracker\", \"level\": \"info\", \"event\": \"Transition\", \"i\": 12, \"transition\": \"array([[9, 4],\\n       [3, 4]])\"}\n",
      "{\"logger\": \"SimpleTracker\", \"level\": \"info\", \"event\": \"Transition\", \"i\": 13, \"transition\": \"array([[1, 1],\\n       [0, 1]])\"}\n",
      "{\"logger\": \"SimpleTracker\", \"level\": \"info\", \"event\": \"Transition\", \"i\": 14, \"transition\": \"array([[2, 3],\\n       [5, 3]])\"}\n",
      "{\"logger\": \"SimpleTracker\", \"level\": \"info\", \"event\": \"Transition\", \"i\": 15, \"transition\": \"array([[0, 1],\\n       [6, 1]])\"}\n",
      "{\"logger\": \"SimpleTracker\", \"level\": \"info\", \"event\": \"Transition\", \"i\": 16, \"transition\": \"array([[2, 9],\\n       [5, 9]])\"}\n",
      "{\"logger\": \"SimpleTracker\", \"level\": \"info\", \"event\": \"Transition\", \"i\": 17, \"transition\": \"array([[9, 8],\\n       [2, 8]])\"}\n",
      "{\"logger\": \"SimpleTracker\", \"level\": \"info\", \"event\": \"Transition\", \"i\": 18, \"transition\": \"array([[6, 1],\\n       [4, 1]])\"}\n",
      "{\"logger\": \"SimpleTracker\", \"level\": \"info\", \"event\": \"Transition\", \"i\": 19, \"transition\": \"array([[ 1,  2],\\n       [10,  2]])\"}\n",
      "{\"logger\": \"SimpleTracker\", \"level\": \"info\", \"event\": \"Transition\", \"i\": 20, \"transition\": \"array([[6, 5],\\n       [1, 5]])\"}\n",
      "{\"logger\": \"SimpleTracker\", \"level\": \"info\", \"event\": \"Transition\", \"i\": 21, \"transition\": \"array([[7, 6],\\n       [6, 6]])\"}\n",
      "{\"logger\": \"SimpleTracker\", \"level\": \"info\", \"event\": \"Transition\", \"i\": 22, \"transition\": \"array([[ 2,  8],\\n       [10,  8]])\"}\n"
     ]
    }
   ],
   "source": [
    "generator = SimpleTracker(\n",
    "    model=deepcopy(model)._shuffle(),\n",
    "    states_qty=states_qty,\n",
    "    topic=topic,\n",
    "    verbosity=verbosity,\n",
    "    shape_str=('Actor', 'Object'),\n",
    "    log_file=os.path.join(path, \"logs.txt\")\n",
    ")\n",
    "generator.create_ontology()"
   ]
  },
  {
   "cell_type": "code",
   "execution_count": 11,
   "metadata": {},
   "outputs": [],
   "source": [
    "generator.create_fol()\n",
    "generator.create_nl()"
   ]
  },
  {
   "cell_type": "code",
   "execution_count": null,
   "metadata": {},
   "outputs": [],
   "source": [
    "for p in generator.nl:\n",
    "    print(p)\n",
    "print(generator.topic.get_question())\n",
    "print(generator.topic.get_answer())"
   ]
  },
  {
   "cell_type": "markdown",
   "metadata": {},
   "source": [
    "# ActorInLocation"
   ]
  },
  {
   "cell_type": "code",
   "execution_count": 12,
   "metadata": {},
   "outputs": [],
   "source": [
    "entities_list = [\n",
    "    \"jhon\",\n",
    "    \"doe\",\n",
    "    \"alice\",\n",
    "    \"bob\",\n",
    "    \"charlie\",\n",
    "    \"david\",\n",
    "    \"eve\",\n",
    "    \"frank\",\n",
    "    \"grace\",\n",
    "    \"heidi\",\n",
    "]\n",
    "entities = [Entity(name=entity) for entity in entities_list]\n",
    "random.shuffle(entities)\n",
    "coordenates_list = [\"kitchen\", \"living room\", \"bedroom\", \"bathroom\", \"garden\"]\n",
    "coordenates = [\n",
    "    Coordenate(name=coordenate) for coordenate in coordenates_list\n",
    "]\n",
    "random.shuffle(coordenates)\n",
    "\n",
    "model = EntitiesInCoordenates(\n",
    "    entities=entities,\n",
    "    coordenates=coordenates,\n",
    ")"
   ]
  },
  {
   "cell_type": "code",
   "execution_count": 13,
   "metadata": {},
   "outputs": [],
   "source": [
    "answer = \"none\"  # [\"designated_entity\", \"none\", \"unknown\"]\n",
    "topic = ActorInLocationWho(\n",
    "    answer=answer,\n",
    ")\n",
    "states_qty = 24\n",
    "verbosity = logging.INFO"
   ]
  },
  {
   "cell_type": "code",
   "execution_count": 27,
   "metadata": {},
   "outputs": [
    {
     "name": "stdout",
     "output_type": "stream",
     "text": [
      "{\"logger\": \"SimpleTracker\", \"level\": \"info\", \"event\": \"Creating _actor_in_location_who\", \"answer\": \"none\", \"e\": \"alice\", \"c\": \"garden\"}\n",
      "{\"logger\": \"SimpleTracker\", \"level\": \"info\", \"event\": \"Creating Answer:\", \"i\": 23}\n",
      "[[0 0 0 0 0 0 0 0 0 0]\n",
      " [0 0 0 0 0 0 0 1 0 0]\n",
      " [0 0 1 1 1 0 0 0 0 0]\n",
      " [0 0 0 0 0 1 0 0 0 0]\n",
      " [1 1 0 0 0 0 1 0 0 0]\n",
      " [0 0 0 0 0 0 0 0 1 1]]\n",
      "entities [8, 9]\n",
      "[[0 0 0 0 0 0 0 0 0 0]\n",
      " [0 0 0 0 0 0 0 1 0 0]\n",
      " [0 0 1 1 1 0 0 0 0 0]\n",
      " [0 0 0 0 0 1 0 0 0 0]\n",
      " [1 1 0 0 0 0 1 0 0 0]\n",
      " [0 0 0 0 0 0 0 0 1 1]]\n",
      "entities [8, 9]\n",
      "[[0 0 0 0 0 0 0 0 0 0]\n",
      " [0 0 0 0 0 0 0 1 0 0]\n",
      " [0 0 1 1 1 0 0 0 0 0]\n",
      " [0 0 0 0 0 1 0 0 0 0]\n",
      " [1 1 0 0 0 0 1 0 0 0]\n",
      " [0 0 0 0 0 0 0 0 1 1]]\n",
      "entities [8, 9]\n",
      "{\"logger\": \"SimpleTracker\", \"level\": \"info\", \"event\": \"actor_in_location_who successfully created:\", \"answer\": \"none\", \"e\": \"alice\", \"c\": \"garden\"}\n",
      "{\"logger\": \"SimpleTracker\", \"level\": \"info\", \"event\": \"Transition\", \"i\": 0, \"transition\": \"array([[3, 5],\\n       [2, 5]])\"}\n",
      "{\"logger\": \"SimpleTracker\", \"level\": \"info\", \"event\": \"Transition\", \"i\": 1, \"transition\": \"array([[3, 1],\\n       [0, 1]])\"}\n",
      "{\"logger\": \"SimpleTracker\", \"level\": \"info\", \"event\": \"Transition\", \"i\": 2, \"transition\": \"array([[0, 2],\\n       [3, 2]])\"}\n",
      "{\"logger\": \"SimpleTracker\", \"level\": \"info\", \"event\": \"Transition\", \"i\": 3, \"transition\": \"array([[3, 4],\\n       [4, 4]])\"}\n",
      "{\"logger\": \"SimpleTracker\", \"level\": \"info\", \"event\": \"Transition\", \"i\": 4, \"transition\": \"array([[3, 8],\\n       [4, 8]])\"}\n",
      "{\"logger\": \"SimpleTracker\", \"level\": \"info\", \"event\": \"Transition\", \"i\": 5, \"transition\": \"array([[4, 4],\\n       [3, 4]])\"}\n",
      "{\"logger\": \"SimpleTracker\", \"level\": \"info\", \"event\": \"Transition\", \"i\": 6, \"transition\": \"array([[5, 6],\\n       [4, 6]])\"}\n",
      "{\"logger\": \"SimpleTracker\", \"level\": \"info\", \"event\": \"Transition\", \"i\": 7, \"transition\": \"array([[3, 4],\\n       [1, 4]])\"}\n",
      "{\"logger\": \"SimpleTracker\", \"level\": \"info\", \"event\": \"Transition\", \"i\": 8, \"transition\": \"array([[1, 4],\\n       [3, 4]])\"}\n",
      "{\"logger\": \"SimpleTracker\", \"level\": \"info\", \"event\": \"Transition\", \"i\": 9, \"transition\": \"array([[0, 1],\\n       [4, 1]])\"}\n",
      "{\"logger\": \"SimpleTracker\", \"level\": \"info\", \"event\": \"Transition\", \"i\": 10, \"transition\": \"array([[3, 0],\\n       [4, 0]])\"}\n",
      "{\"logger\": \"SimpleTracker\", \"level\": \"info\", \"event\": \"Transition\", \"i\": 11, \"transition\": \"array([[4, 8],\\n       [0, 8]])\"}\n",
      "{\"logger\": \"SimpleTracker\", \"level\": \"info\", \"event\": \"Transition\", \"i\": 12, \"transition\": \"array([[4, 6],\\n       [0, 6]])\"}\n",
      "{\"logger\": \"SimpleTracker\", \"level\": \"info\", \"event\": \"Transition\", \"i\": 13, \"transition\": \"array([[1, 3],\\n       [0, 3]])\"}\n",
      "{\"logger\": \"SimpleTracker\", \"level\": \"info\", \"event\": \"Transition\", \"i\": 14, \"transition\": \"array([[0, 6],\\n       [3, 6]])\"}\n",
      "{\"logger\": \"SimpleTracker\", \"level\": \"info\", \"event\": \"Transition\", \"i\": 15, \"transition\": \"array([[0, 8],\\n       [5, 8]])\"}\n",
      "{\"logger\": \"SimpleTracker\", \"level\": \"info\", \"event\": \"Transition\", \"i\": 16, \"transition\": \"array([[2, 5],\\n       [1, 5]])\"}\n",
      "{\"logger\": \"SimpleTracker\", \"level\": \"info\", \"event\": \"Transition\", \"i\": 17, \"transition\": \"array([[3, 2],\\n       [2, 2]])\"}\n",
      "{\"logger\": \"SimpleTracker\", \"level\": \"info\", \"event\": \"Transition\", \"i\": 18, \"transition\": \"array([[1, 5],\\n       [3, 5]])\"}\n",
      "{\"logger\": \"SimpleTracker\", \"level\": \"info\", \"event\": \"Transition\", \"i\": 19, \"transition\": \"array([[3, 4],\\n       [2, 4]])\"}\n",
      "{\"logger\": \"SimpleTracker\", \"level\": \"info\", \"event\": \"Transition\", \"i\": 20, \"transition\": \"array([[3, 6],\\n       [4, 6]])\"}\n",
      "{\"logger\": \"SimpleTracker\", \"level\": \"info\", \"event\": \"Transition\", \"i\": 21, \"transition\": \"array([[0, 3],\\n       [2, 3]])\"}\n",
      "{\"logger\": \"SimpleTracker\", \"level\": \"info\", \"event\": \"Transition\", \"i\": 22, \"transition\": \"array([[0, 9],\\n       [5, 9]])\"}\n"
     ]
    }
   ],
   "source": [
    "generator = SimpleTracker(\n",
    "    model=deepcopy(model)._shuffle(),\n",
    "    states_qty=states_qty,\n",
    "    topic=topic,\n",
    "    verbosity=verbosity,\n",
    "    shape_str=('Location', 'Actor'),\n",
    "    log_file=os.path.join(path, \"logs.txt\")\n",
    ")\n",
    "generator.create_ontology()"
   ]
  },
  {
   "cell_type": "code",
   "execution_count": 22,
   "metadata": {},
   "outputs": [],
   "source": [
    "generator.create_fol()\n",
    "generator.create_nl()"
   ]
  },
  {
   "cell_type": "code",
   "execution_count": null,
   "metadata": {},
   "outputs": [],
   "source": [
    "for p in generator.nl:\n",
    "    print(p)\n",
    "print(generator.topic.get_question())\n",
    "print(generator.topic.get_answer())"
   ]
  }
 ],
 "metadata": {
  "kernelspec": {
   "display_name": "babisteps-jEjEzKkT-py3.12",
   "language": "python",
   "name": "python3"
  },
  "language_info": {
   "codemirror_mode": {
    "name": "ipython",
    "version": 3
   },
   "file_extension": ".py",
   "mimetype": "text/x-python",
   "name": "python",
   "nbconvert_exporter": "python",
   "pygments_lexer": "ipython3",
   "version": "3.12.3"
  }
 },
 "nbformat": 4,
 "nbformat_minor": 2
}
